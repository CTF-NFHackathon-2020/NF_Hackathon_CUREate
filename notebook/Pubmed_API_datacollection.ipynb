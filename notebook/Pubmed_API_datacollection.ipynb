{
 "cells": [
  {
   "cell_type": "code",
   "execution_count": 225,
   "metadata": {},
   "outputs": [],
   "source": [
    "#!pip install pymed\n",
    "#!pip install entrezpy"
   ]
  },
  {
   "cell_type": "code",
   "execution_count": 14,
   "metadata": {},
   "outputs": [
    {
     "name": "stdout",
     "output_type": "stream",
     "text": [
      "Collecting biopython\n",
      "  Downloading biopython-1.78-cp37-cp37m-macosx_10_9_x86_64.whl (2.2 MB)\n",
      "\u001b[K     |████████████████████████████████| 2.2 MB 146 kB/s eta 0:00:01\n",
      "\u001b[?25hRequirement already satisfied: numpy in /opt/anaconda3/lib/python3.7/site-packages (from biopython) (1.18.1)\n",
      "Installing collected packages: biopython\n",
      "Successfully installed biopython-1.78\n"
     ]
    }
   ],
   "source": [
    "!pip install biopython #required"
   ]
  },
  {
   "cell_type": "code",
   "execution_count": 1,
   "metadata": {},
   "outputs": [],
   "source": [
    "import Bio"
   ]
  },
  {
   "cell_type": "code",
   "execution_count": 2,
   "metadata": {},
   "outputs": [
    {
     "data": {
      "text/plain": [
       "'1.79.dev0'"
      ]
     },
     "execution_count": 2,
     "metadata": {},
     "output_type": "execute_result"
    }
   ],
   "source": [
    "Bio.__version__"
   ]
  },
  {
   "cell_type": "code",
   "execution_count": 224,
   "metadata": {},
   "outputs": [],
   "source": [
    "from Bio import Entrez\n",
    "import xml.etree.ElementTree as ET \n",
    "import re\n",
    "from bs4 import BeautifulSoup \n",
    "import pandas as pd"
   ]
  },
  {
   "cell_type": "code",
   "execution_count": 212,
   "metadata": {},
   "outputs": [],
   "source": [
    "Entrez.email = 'jpzhangv@gmail.com'"
   ]
  },
  {
   "cell_type": "code",
   "execution_count": 229,
   "metadata": {},
   "outputs": [],
   "source": [
    "search_query = '(\"neurofibromatoses\"[MeSH Terms] OR \"neurofibromatoses\"[All Fields] OR \"neurofibromatosis\"[All Fields]) OR NF1[All Fields] OR  NF2[All Fields] AND \"open access\"[filter]'"
   ]
  },
  {
   "cell_type": "code",
   "execution_count": 230,
   "metadata": {},
   "outputs": [],
   "source": [
    "search_results = Entrez.read(Entrez.esearch(db=\"pmc\", term=search_query, retmax=10, usehistory=\"y\"))"
   ]
  },
  {
   "cell_type": "code",
   "execution_count": 245,
   "metadata": {},
   "outputs": [
    {
     "data": {
      "text/plain": [
       "'16733'"
      ]
     },
     "execution_count": 245,
     "metadata": {},
     "output_type": "execute_result"
    }
   ],
   "source": [
    "search_results[\"Count\"]"
   ]
  },
  {
   "cell_type": "code",
   "execution_count": 236,
   "metadata": {},
   "outputs": [],
   "source": [
    "handle = Entrez.efetch(db=\"pmc\", rettype=\"full\", retmode=\"xml\", retstart=0, retmax=int(search_results[\"Count\"]), webenv=search_results[\"WebEnv\"], query_key=search_results[\"QueryKey\"])"
   ]
  },
  {
   "cell_type": "code",
   "execution_count": 54,
   "metadata": {},
   "outputs": [],
   "source": [
    "#record = Entrez.read(handle, validate=False)"
   ]
  },
  {
   "cell_type": "code",
   "execution_count": 237,
   "metadata": {},
   "outputs": [
    {
     "data": {
      "text/plain": [
       "bytes"
      ]
     },
     "execution_count": 237,
     "metadata": {},
     "output_type": "execute_result"
    }
   ],
   "source": [
    "text = handle.read()\n",
    "type(text)"
   ]
  },
  {
   "cell_type": "code",
   "execution_count": 238,
   "metadata": {},
   "outputs": [],
   "source": [
    "#len(text)"
   ]
  },
  {
   "cell_type": "code",
   "execution_count": 223,
   "metadata": {},
   "outputs": [
    {
     "data": {
      "text/plain": [
       "b'<?xml version=\"1.0\" ?>\\n<!DOCTYPE pmc-articleset PUBLIC \"-//NLM//DTD ARTICLE SET 2.0//EN\" \"https://dtd.nlm.nih.gov/ncbi/pmc/articleset/nlm-articleset-2.0.dtd\">\\n<pmc-articleset><article xmlns:xlink=\"http://www.w3.org/1999/xlink\" xmlns:mml=\"http://www.w3.org/1998/Math/MathML\" article-type=\"research-article\">\\n  <?properties open_access?>\\n  <front>\\n    <journal-meta>\\n      <journal-id journal-id-type=\"nlm-ta\">JCI Insight</journal-id>\\n      <journal-id journal-id-type=\"iso-abbrev\">JCI Insight</journal-id>\\n      <journal-id journal-id-type=\"publisher-id\">JCI Insight</journal-id>\\n      <journal-title-group>\\n        <journal-title>JCI Insight</journal-title>\\n      </journal-title-group>\\n      <issn pub-type=\"epub\">2379-3708</issn>\\n      <publisher>\\n        <publisher-name>American Society for Clinical Investigation</publisher-name>\\n      </publisher>\\n    </journal-meta>\\n    <article-meta>\\n      <article-id pub-id-type=\"pmid\">32960816</article-id>\\n      <article-id pub-id-type=\"pmc\">7605536</art'"
      ]
     },
     "execution_count": 223,
     "metadata": {},
     "output_type": "execute_result"
    }
   ],
   "source": [
    "text[:1000]"
   ]
  },
  {
   "cell_type": "code",
   "execution_count": 198,
   "metadata": {},
   "outputs": [
    {
     "data": {
      "text/plain": [
       "b'tes, one was derived from a neurofibromatosis patient and the other from an A-T heterozygote. When SV40 DNA was employed as the transforming agent for the latter, the transformation rate was no longer raised.</p>\\n        <sec sec-type=\"scanned-figures\">\\n          <title>Images</title>\\n          <fig id=\"F1\">\\n            <label>Fig. 1</label>\\n            <graphic xlink:href=\"brjcancer00296-0052-a\" xlink:role=\"586\"/>\\n          </fig>\\n          <fig id=\"F2\">\\n            <label>Fig. 2</label>\\n            <graphic xlink:href=\"brjcancer00296-0053-a\" xlink:role=\"587\"/>\\n          </fig>\\n        </sec>\\n      </abstract>\\n    </article-meta>\\n  </front>\\n  <body>\\n    <supplementary-material content-type=\"scanned-pages\">\\n      <graphic xlink:href=\"brjcancer00296-0049.tif\" xlink:title=\"scanned-page\" xlink:role=\"583\" mimetype=\"image\" mime-subtype=\"tiff\"/>\\n      <graphic xlink:href=\"brjcancer00296-0050.tif\" xlink:title=\"scanned-page\" xlink:role=\"584\" mimetype=\"image\" mime-subtype=\"tiff\"/>\\n      <graphic xlink:href=\"brjcancer00296-0051.tif\" xlink:title=\"scanned-page\" xlink:role=\"585\" mimetype=\"image\" mime-subtype=\"tiff\"/>\\n      <graphic xlink:href=\"brjcancer00296-0052.tif\" xlink:title=\"scanned-page\" xlink:role=\"586\" mimetype=\"image\" mime-subtype=\"tiff\"/>\\n      <graphic xlink:href=\"brjcancer00296-0053.tif\" xlink:title=\"scanned-page\" xlink:role=\"587\" mimetype=\"image\" mime-subtype=\"tiff\"/>\\n      <graphic xlink:href=\"brjcancer00296-0054.tif\" xlink:title=\"scanned-page\" xlink:role=\"588\" mimetype=\"image\" mime-subtype=\"tiff\"/>\\n      <graphic xlink:href=\"brjcancer00296-0055.tif\" xlink:title=\"scanned-page\" xlink:role=\"589\" mimetype=\"image\" mime-subtype=\"tiff\"/>\\n      <graphic xlink:href=\"brjcancer00296-0056.tif\" xlink:title=\"scanned-page\" xlink:role=\"590\" mimetype=\"image\" mime-subtype=\"tiff\"/>\\n      <graphic xlink:href=\"brjcancer00296-0057.tif\" xlink:title=\"scanned-page\" xlink:role=\"591\" mimetype=\"image\" mime-subtype=\"tiff\"/>\\n    </supplementary-material>\\n  </body>\\n</article>\\n</pmc-articleset>'"
      ]
     },
     "execution_count": 198,
     "metadata": {},
     "output_type": "execute_result"
    }
   ],
   "source": [
    "text[-2000:]"
   ]
  },
  {
   "cell_type": "code",
   "execution_count": 255,
   "metadata": {},
   "outputs": [],
   "source": [
    "#text[89000:109000]"
   ]
  },
  {
   "cell_type": "code",
   "execution_count": 22,
   "metadata": {},
   "outputs": [
    {
     "data": {
      "text/plain": [
       "1200"
      ]
     },
     "execution_count": 22,
     "metadata": {},
     "output_type": "execute_result"
    }
   ],
   "source": [
    "text.count(b'article-id pub-id-type=\"pmc\"')"
   ]
  },
  {
   "cell_type": "code",
   "execution_count": 28,
   "metadata": {},
   "outputs": [
    {
     "data": {
      "text/plain": [
       "921"
      ]
     },
     "execution_count": 28,
     "metadata": {},
     "output_type": "execute_result"
    }
   ],
   "source": [
    "text.count(b'<abstract>')"
   ]
  },
  {
   "cell_type": "code",
   "execution_count": 63,
   "metadata": {},
   "outputs": [
    {
     "data": {
      "text/plain": [
       "75296"
      ]
     },
     "execution_count": 63,
     "metadata": {},
     "output_type": "execute_result"
    }
   ],
   "source": [
    "text.count(b'<article-title>')"
   ]
  },
  {
   "cell_type": "code",
   "execution_count": 26,
   "metadata": {},
   "outputs": [
    {
     "data": {
      "text/plain": [
       "150637"
      ]
     },
     "execution_count": 26,
     "metadata": {},
     "output_type": "execute_result"
    }
   ],
   "source": [
    "text.count(b'article-title')"
   ]
  },
  {
   "cell_type": "markdown",
   "metadata": {},
   "source": [
    "## Parse the raw XML data"
   ]
  },
  {
   "cell_type": "code",
   "execution_count": 239,
   "metadata": {},
   "outputs": [
    {
     "name": "stdout",
     "output_type": "stream",
     "text": [
      "CPU times: user 4 µs, sys: 0 ns, total: 4 µs\n",
      "Wall time: 17.9 µs\n"
     ]
    }
   ],
   "source": [
    "%time\n",
    "pmc_paper_data = BeautifulSoup(text, \"xml\") "
   ]
  },
  {
   "cell_type": "code",
   "execution_count": 30,
   "metadata": {},
   "outputs": [
    {
     "data": {
      "text/plain": [
       "{'abstract',\n",
       " 'ack',\n",
       " 'addr-line',\n",
       " 'address',\n",
       " 'aff',\n",
       " 'alt-text',\n",
       " 'alt-title',\n",
       " 'alternatives',\n",
       " 'annotation',\n",
       " 'anonymous',\n",
       " 'app',\n",
       " 'app-group',\n",
       " 'array',\n",
       " 'article',\n",
       " 'article-categories',\n",
       " 'article-id',\n",
       " 'article-meta',\n",
       " 'article-title',\n",
       " 'article-version',\n",
       " 'attrib',\n",
       " 'author-comment',\n",
       " 'author-notes',\n",
       " 'award-group',\n",
       " 'award-id',\n",
       " 'back',\n",
       " 'bio',\n",
       " 'body',\n",
       " 'bold',\n",
       " 'boxed-text',\n",
       " 'break',\n",
       " 'caption',\n",
       " 'chapter-title',\n",
       " 'citation',\n",
       " 'city',\n",
       " 'col',\n",
       " 'colgroup',\n",
       " 'collab',\n",
       " 'comment',\n",
       " 'compound-subject',\n",
       " 'compound-subject-part',\n",
       " 'conf-date',\n",
       " 'conf-loc',\n",
       " 'conf-name',\n",
       " 'conference',\n",
       " 'contrib',\n",
       " 'contrib-group',\n",
       " 'contrib-id',\n",
       " 'copyright-holder',\n",
       " 'copyright-statement',\n",
       " 'copyright-year',\n",
       " 'corresp',\n",
       " 'country',\n",
       " 'counts',\n",
       " 'custom-meta',\n",
       " 'custom-meta-group',\n",
       " 'date',\n",
       " 'date-in-citation',\n",
       " 'day',\n",
       " 'def',\n",
       " 'def-item',\n",
       " 'def-list',\n",
       " 'degrees',\n",
       " 'disp-formula',\n",
       " 'disp-quote',\n",
       " 'edition',\n",
       " 'element-citation',\n",
       " 'elocation-id',\n",
       " 'email',\n",
       " 'equation-count',\n",
       " 'etal',\n",
       " 'ext-link',\n",
       " 'fax',\n",
       " 'fig',\n",
       " 'fig-count',\n",
       " 'floats-group',\n",
       " 'floats-wrap',\n",
       " 'fn',\n",
       " 'fn-group',\n",
       " 'fpage',\n",
       " 'free_to_read',\n",
       " 'front',\n",
       " 'front-stub',\n",
       " 'funding-group',\n",
       " 'funding-source',\n",
       " 'funding-statement',\n",
       " 'given-names',\n",
       " 'glossary',\n",
       " 'graphic',\n",
       " 'history',\n",
       " 'hr',\n",
       " 'inline-formula',\n",
       " 'inline-graphic',\n",
       " 'inline-supplementary-material',\n",
       " 'institution',\n",
       " 'institution-id',\n",
       " 'institution-wrap',\n",
       " 'isbn',\n",
       " 'issn',\n",
       " 'issue',\n",
       " 'issue-id',\n",
       " 'issue-part',\n",
       " 'issue-sponsor',\n",
       " 'issue-title',\n",
       " 'italic',\n",
       " 'journal-id',\n",
       " 'journal-meta',\n",
       " 'journal-title',\n",
       " 'journal-title-group',\n",
       " 'kwd',\n",
       " 'kwd-group',\n",
       " 'label',\n",
       " 'license',\n",
       " 'license-p',\n",
       " 'license_ref',\n",
       " 'list',\n",
       " 'list-item',\n",
       " 'lpage',\n",
       " 'math',\n",
       " 'media',\n",
       " 'meta-name',\n",
       " 'meta-value',\n",
       " 'mfenced',\n",
       " 'mfrac',\n",
       " 'mi',\n",
       " 'mixed-citation',\n",
       " 'mn',\n",
       " 'mo',\n",
       " 'monospace',\n",
       " 'month',\n",
       " 'mover',\n",
       " 'mroot',\n",
       " 'mrow',\n",
       " 'mspace',\n",
       " 'msqrt',\n",
       " 'mstyle',\n",
       " 'msub',\n",
       " 'msubsup',\n",
       " 'msup',\n",
       " 'mtable',\n",
       " 'mtd',\n",
       " 'mtext',\n",
       " 'mtr',\n",
       " 'munder',\n",
       " 'munderover',\n",
       " 'name',\n",
       " 'named-content',\n",
       " 'note',\n",
       " 'notes',\n",
       " 'object-id',\n",
       " 'open-access',\n",
       " 'p',\n",
       " 'page-count',\n",
       " 'page-range',\n",
       " 'permissions',\n",
       " 'person-group',\n",
       " 'phone',\n",
       " 'pmc-articleset',\n",
       " 'postal-code',\n",
       " 'prefix',\n",
       " 'principal-award-recipient',\n",
       " 'pub-date',\n",
       " 'pub-id',\n",
       " 'publisher',\n",
       " 'publisher-loc',\n",
       " 'publisher-name',\n",
       " 'ref',\n",
       " 'ref-count',\n",
       " 'ref-list',\n",
       " 'related-article',\n",
       " 'related-object',\n",
       " 'role',\n",
       " 'sc',\n",
       " 'season',\n",
       " 'sec',\n",
       " 'self-uri',\n",
       " 'semantics',\n",
       " 'series',\n",
       " 'series-title',\n",
       " 'size',\n",
       " 'source',\n",
       " 'state',\n",
       " 'statement',\n",
       " 'string-name',\n",
       " 'styled-content',\n",
       " 'sub',\n",
       " 'sub-article',\n",
       " 'subj-group',\n",
       " 'subject',\n",
       " 'subtitle',\n",
       " 'suffix',\n",
       " 'sup',\n",
       " 'supplement',\n",
       " 'supplementary-material',\n",
       " 'surname',\n",
       " 'table',\n",
       " 'table-count',\n",
       " 'table-wrap',\n",
       " 'table-wrap-foot',\n",
       " 'target',\n",
       " 'tbody',\n",
       " 'td',\n",
       " 'term',\n",
       " 'tex-math',\n",
       " 'tfoot',\n",
       " 'th',\n",
       " 'thead',\n",
       " 'title',\n",
       " 'title-group',\n",
       " 'tr',\n",
       " 'trans-abstract',\n",
       " 'trans-title',\n",
       " 'trans-title-group',\n",
       " 'underline',\n",
       " 'uri',\n",
       " 'volume',\n",
       " 'word-count',\n",
       " 'x',\n",
       " 'xref',\n",
       " 'year'}"
      ]
     },
     "execution_count": 30,
     "metadata": {},
     "output_type": "execute_result"
    }
   ],
   "source": [
    "set([tag.name for tag in pmc_paper_data.find_all()])"
   ]
  },
  {
   "cell_type": "code",
   "execution_count": 70,
   "metadata": {},
   "outputs": [
    {
     "data": {
      "text/plain": [
       "1200"
      ]
     },
     "execution_count": 70,
     "metadata": {},
     "output_type": "execute_result"
    }
   ],
   "source": [
    "len(pmc_paper_data.find_all('article'))"
   ]
  },
  {
   "cell_type": "code",
   "execution_count": 71,
   "metadata": {},
   "outputs": [
    {
     "data": {
      "text/plain": [
       "1282"
      ]
     },
     "execution_count": 71,
     "metadata": {},
     "output_type": "execute_result"
    }
   ],
   "source": [
    "len(pmc_paper_data.find_all('abstract'))"
   ]
  },
  {
   "cell_type": "code",
   "execution_count": 59,
   "metadata": {},
   "outputs": [],
   "source": [
    "#pmc_paper_data.find_all('article-id', attrs={'pub-id-type' : 'pmc'})\n",
    "#./pmc-articleset/article/ [@pub-id-type=\"pmc\"]"
   ]
  },
  {
   "cell_type": "code",
   "execution_count": 60,
   "metadata": {},
   "outputs": [],
   "source": [
    "all_pmc_ids = [tag.text for tag in pmc_paper_data.find_all('article-id', attrs={'pub-id-type' : 'pmc'})]"
   ]
  },
  {
   "cell_type": "markdown",
   "metadata": {},
   "source": [
    "## Extract useful information from the parsed XML data"
   ]
  },
  {
   "cell_type": "code",
   "execution_count": 240,
   "metadata": {},
   "outputs": [],
   "source": [
    "all_article = pmc_paper_data.find_all('article')"
   ]
  },
  {
   "cell_type": "code",
   "execution_count": 244,
   "metadata": {},
   "outputs": [
    {
     "data": {
      "text/plain": [
       "10000"
      ]
     },
     "execution_count": 244,
     "metadata": {},
     "output_type": "execute_result"
    }
   ],
   "source": [
    "len(all_article)"
   ]
  },
  {
   "cell_type": "code",
   "execution_count": null,
   "metadata": {},
   "outputs": [],
   "source": [
    "all_article[0].find_all('')"
   ]
  },
  {
   "cell_type": "code",
   "execution_count": 241,
   "metadata": {},
   "outputs": [],
   "source": [
    "pmc_papers_ls = []\n",
    "for article in all_article:\n",
    "    pmc_id = article.find(\"article-id\", attrs={'pub-id-type' : 'pmc'}).getText()\n",
    "    title = article.find(\"article-title\").getText()\n",
    "    author_ls = set([s.getText().strip().replace(\"\\n\", \" \") for ss in article.find_all(\"contrib\", attrs = {'contrib-type': \"author\"}) for s in ss.find_all(\"name\") if s])\n",
    "    authors = ', '.join(author_ls)\n",
    "    affliations = ', '.join([re.sub(\"n\\d+|\\d+|\\n\", \"\", t.text)  for t in article.find_all(\"aff\") if t is not None])\n",
    "    keywords = ', '.join([t.text.strip().replace(\"\\n\", \" \")  for t in article.find_all(\"kwd\")])\n",
    "    abstract_node = article.find(\"abstract\")\n",
    "    if abstract_node and abstract_node.find(\"p\"):\n",
    "        abstract = abstract_node.find(\"p\").getText().strip()\n",
    "    else:\n",
    "        abstract = ''\n",
    "        \n",
    "    pmc_papers_ls.append({'pmc_id': pmc_id, 'title': title, 'authors': authors, 'affliations': affliations, 'keywords': keywords, 'abstract': abstract})\n",
    "    #print(keywords)\n",
    "    #print(\"\\n\")"
   ]
  },
  {
   "cell_type": "code",
   "execution_count": 242,
   "metadata": {},
   "outputs": [],
   "source": [
    "pmc_papers_df = pd.DataFrame(pmc_papers_ls)"
   ]
  },
  {
   "cell_type": "code",
   "execution_count": 243,
   "metadata": {},
   "outputs": [
    {
     "data": {
      "text/plain": [
       "(10000, 6)"
      ]
     },
     "execution_count": 243,
     "metadata": {},
     "output_type": "execute_result"
    }
   ],
   "source": [
    "pmc_papers_df.shape"
   ]
  },
  {
   "cell_type": "code",
   "execution_count": 247,
   "metadata": {},
   "outputs": [],
   "source": [
    "pmc_papers_df['keywords'] = pmc_papers_df['keywords'].map(lambda x: x.replace('\\n', ''))"
   ]
  },
  {
   "cell_type": "code",
   "execution_count": 248,
   "metadata": {},
   "outputs": [
    {
     "data": {
      "text/html": [
       "<div>\n",
       "<style scoped>\n",
       "    .dataframe tbody tr th:only-of-type {\n",
       "        vertical-align: middle;\n",
       "    }\n",
       "\n",
       "    .dataframe tbody tr th {\n",
       "        vertical-align: top;\n",
       "    }\n",
       "\n",
       "    .dataframe thead th {\n",
       "        text-align: right;\n",
       "    }\n",
       "</style>\n",
       "<table border=\"1\" class=\"dataframe\">\n",
       "  <thead>\n",
       "    <tr style=\"text-align: right;\">\n",
       "      <th></th>\n",
       "      <th>pmc_id</th>\n",
       "      <th>title</th>\n",
       "      <th>authors</th>\n",
       "      <th>affliations</th>\n",
       "      <th>keywords</th>\n",
       "      <th>abstract</th>\n",
       "    </tr>\n",
       "  </thead>\n",
       "  <tbody>\n",
       "    <tr>\n",
       "      <th>0</th>\n",
       "      <td>7643456</td>\n",
       "      <td>Discernment between candidate mechanisms for K...</td>\n",
       "      <td>Stites Edward C., Rossman Kent L., McFall Thom...</td>\n",
       "      <td>grid..   Integrative Biology Laboratory, Salk ...</td>\n",
       "      <td>KRAS, GTPase, EGFR, Cancer, Targeted therapy</td>\n",
       "      <td>Phase three clinical trial evidence suggests t...</td>\n",
       "    </tr>\n",
       "    <tr>\n",
       "      <th>1</th>\n",
       "      <td>7643332</td>\n",
       "      <td>Psychometric properties of satisfaction with t...</td>\n",
       "      <td>Mirghafourvand Mojgan, Mohammad-Alizadeh-Chara...</td>\n",
       "      <td>grid..f   Students’ Research Committee, Tabriz...</td>\n",
       "      <td>Satisfaction, Childbirth education, Validity, ...</td>\n",
       "      <td>Childbirth preparation classes can reduce preg...</td>\n",
       "    </tr>\n",
       "    <tr>\n",
       "      <th>2</th>\n",
       "      <td>7641497</td>\n",
       "      <td>A Rare Incidence of Metachronous Neurovascular...</td>\n",
       "      <td>Chandrasekaran Deepak, Azariah Emmanuel D, Chi...</td>\n",
       "      <td>Oral and Maxillofacial Surgery, Sri Ramachandr...</td>\n",
       "      <td>mesenchymal tumor, solitary, intraosseous, juv...</td>\n",
       "      <td>Neurofibroma is an uncommon benign tumor arisi...</td>\n",
       "    </tr>\n",
       "    <tr>\n",
       "      <th>3</th>\n",
       "      <td>7640792</td>\n",
       "      <td>A Child with Enlarged Extremities – A Case of ...</td>\n",
       "      <td>Sundareswaran N, Gopinath G, Gunasekaran K</td>\n",
       "      <td>From the Department of Neurology, Government M...</td>\n",
       "      <td>Enlarged extremities, focal gigantism, macroda...</td>\n",
       "      <td>Macrodystrophia lipomatosa (ML) is a rare, non...</td>\n",
       "    </tr>\n",
       "    <tr>\n",
       "      <th>4</th>\n",
       "      <td>7609672</td>\n",
       "      <td>Primary pancreatic glomus tumor invading into ...</td>\n",
       "      <td>Sasaki Yu, Taki Yoshiro, Tamaki Ichiro, Sasano...</td>\n",
       "      <td>grid..cDepartment of Surgery, Kansai Electric ...</td>\n",
       "      <td>Glomus tumor, Glomangiomyoma, Pancreas, Immuno...</td>\n",
       "      <td>Glomus tumors are subcutaneous tumors arising ...</td>\n",
       "    </tr>\n",
       "  </tbody>\n",
       "</table>\n",
       "</div>"
      ],
      "text/plain": [
       "    pmc_id                                              title  \\\n",
       "0  7643456  Discernment between candidate mechanisms for K...   \n",
       "1  7643332  Psychometric properties of satisfaction with t...   \n",
       "2  7641497  A Rare Incidence of Metachronous Neurovascular...   \n",
       "3  7640792  A Child with Enlarged Extremities – A Case of ...   \n",
       "4  7609672  Primary pancreatic glomus tumor invading into ...   \n",
       "\n",
       "                                             authors  \\\n",
       "0  Stites Edward C., Rossman Kent L., McFall Thom...   \n",
       "1  Mirghafourvand Mojgan, Mohammad-Alizadeh-Chara...   \n",
       "2  Chandrasekaran Deepak, Azariah Emmanuel D, Chi...   \n",
       "3         Sundareswaran N, Gopinath G, Gunasekaran K   \n",
       "4  Sasaki Yu, Taki Yoshiro, Tamaki Ichiro, Sasano...   \n",
       "\n",
       "                                         affliations  \\\n",
       "0  grid..   Integrative Biology Laboratory, Salk ...   \n",
       "1  grid..f   Students’ Research Committee, Tabriz...   \n",
       "2  Oral and Maxillofacial Surgery, Sri Ramachandr...   \n",
       "3  From the Department of Neurology, Government M...   \n",
       "4  grid..cDepartment of Surgery, Kansai Electric ...   \n",
       "\n",
       "                                            keywords  \\\n",
       "0       KRAS, GTPase, EGFR, Cancer, Targeted therapy   \n",
       "1  Satisfaction, Childbirth education, Validity, ...   \n",
       "2  mesenchymal tumor, solitary, intraosseous, juv...   \n",
       "3  Enlarged extremities, focal gigantism, macroda...   \n",
       "4  Glomus tumor, Glomangiomyoma, Pancreas, Immuno...   \n",
       "\n",
       "                                            abstract  \n",
       "0  Phase three clinical trial evidence suggests t...  \n",
       "1  Childbirth preparation classes can reduce preg...  \n",
       "2  Neurofibroma is an uncommon benign tumor arisi...  \n",
       "3  Macrodystrophia lipomatosa (ML) is a rare, non...  \n",
       "4  Glomus tumors are subcutaneous tumors arising ...  "
      ]
     },
     "execution_count": 248,
     "metadata": {},
     "output_type": "execute_result"
    }
   ],
   "source": [
    "pmc_papers_df.head()"
   ]
  },
  {
   "cell_type": "code",
   "execution_count": 249,
   "metadata": {},
   "outputs": [],
   "source": [
    "pmc_papers_df.drop_duplicates('pmc_id').to_csv(\"../data/pmc_papers.csv\")"
   ]
  },
  {
   "cell_type": "code",
   "execution_count": null,
   "metadata": {},
   "outputs": [],
   "source": []
  }
 ],
 "metadata": {
  "kernelspec": {
   "display_name": "Python 3",
   "language": "python",
   "name": "python3"
  },
  "language_info": {
   "codemirror_mode": {
    "name": "ipython",
    "version": 3
   },
   "file_extension": ".py",
   "mimetype": "text/x-python",
   "name": "python",
   "nbconvert_exporter": "python",
   "pygments_lexer": "ipython3",
   "version": "3.7.6"
  }
 },
 "nbformat": 4,
 "nbformat_minor": 4
}
