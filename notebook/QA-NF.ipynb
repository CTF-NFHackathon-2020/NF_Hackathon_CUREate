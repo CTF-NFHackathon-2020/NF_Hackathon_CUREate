{
 "cells": [
  {
   "cell_type": "code",
   "execution_count": 1,
   "metadata": {},
   "outputs": [
    {
     "name": "stderr",
     "output_type": "stream",
     "text": [
      "11/12/2020 09:39:54 - INFO - faiss -   Loading faiss.\n"
     ]
    }
   ],
   "source": [
    "import numpy as np\n",
    "import pandas as pd\n",
    "import json\n",
    "import glob\n",
    "import os\n",
    "import pprint\n",
    "import re\n",
    "from bs4 import BeautifulSoup \n",
    "\n",
    "from haystack import Finder\n",
    "from haystack.preprocessor.cleaning import clean_wiki_text\n",
    "from haystack.preprocessor.utils import convert_files_to_dicts, fetch_archive_from_http\n",
    "from haystack.reader.farm import FARMReader\n",
    "from haystack.reader.transformers import TransformersReader\n",
    "from haystack.utils import print_answers\n",
    "from haystack.document_store.elasticsearch import ElasticsearchDocumentStore\n",
    "from haystack.retriever.sparse import ElasticsearchRetriever"
   ]
  },
  {
   "cell_type": "code",
   "execution_count": 1,
   "metadata": {},
   "outputs": [],
   "source": [
    "import pandas as pd"
   ]
  },
  {
   "cell_type": "code",
   "execution_count": 2,
   "metadata": {},
   "outputs": [],
   "source": [
    "clinvar_data = pd.read_csv('../data/nf_mutation_info.csv')"
   ]
  },
  {
   "cell_type": "code",
   "execution_count": 3,
   "metadata": {},
   "outputs": [
    {
     "data": {
      "text/html": [
       "<div>\n",
       "<style scoped>\n",
       "    .dataframe tbody tr th:only-of-type {\n",
       "        vertical-align: middle;\n",
       "    }\n",
       "\n",
       "    .dataframe tbody tr th {\n",
       "        vertical-align: top;\n",
       "    }\n",
       "\n",
       "    .dataframe thead th {\n",
       "        text-align: right;\n",
       "    }\n",
       "</style>\n",
       "<table border=\"1\" class=\"dataframe\">\n",
       "  <thead>\n",
       "    <tr style=\"text-align: right;\">\n",
       "      <th></th>\n",
       "      <th>Name</th>\n",
       "      <th>Gene(s)</th>\n",
       "      <th>Protein change</th>\n",
       "      <th>diagnosis</th>\n",
       "      <th>Clinical significance</th>\n",
       "      <th>Last_review_date</th>\n",
       "      <th>GRCh37Chromosome</th>\n",
       "      <th>GRCh38Chromosome</th>\n",
       "      <th>VariationID</th>\n",
       "    </tr>\n",
       "  </thead>\n",
       "  <tbody>\n",
       "    <tr>\n",
       "      <th>0</th>\n",
       "      <td>NM_001042492.3(NF1):c.58C&gt;G (p.Gln20Glu)</td>\n",
       "      <td>NF1</td>\n",
       "      <td>Q20E</td>\n",
       "      <td>Neurofibromatosis, type 1</td>\n",
       "      <td>Uncertain significance</td>\n",
       "      <td>Nov 8, 2019</td>\n",
       "      <td>17.0</td>\n",
       "      <td>17.0</td>\n",
       "      <td>955226</td>\n",
       "    </tr>\n",
       "    <tr>\n",
       "      <th>1</th>\n",
       "      <td>NM_000267.3(NF1):c.58C&gt;T (p.Gln20Ter)</td>\n",
       "      <td>NF1</td>\n",
       "      <td>Q20*</td>\n",
       "      <td>Neurofibromatosis, type 1</td>\n",
       "      <td>Pathogenic</td>\n",
       "      <td>Jan 7, 2019</td>\n",
       "      <td>17.0</td>\n",
       "      <td>17.0</td>\n",
       "      <td>576465</td>\n",
       "    </tr>\n",
       "    <tr>\n",
       "      <th>2</th>\n",
       "      <td>NM_000267.3(NF1):c.59A&gt;C (p.Gln20Pro)</td>\n",
       "      <td>NF1</td>\n",
       "      <td>Q20P</td>\n",
       "      <td>Neurofibromatosis, type 1</td>\n",
       "      <td>Uncertain significance</td>\n",
       "      <td>Aug 2, 2018</td>\n",
       "      <td>17.0</td>\n",
       "      <td>17.0</td>\n",
       "      <td>650986</td>\n",
       "    </tr>\n",
       "    <tr>\n",
       "      <th>3</th>\n",
       "      <td>NM_001042492.3(NF1):c.60G&gt;C (p.Gln20His)</td>\n",
       "      <td>NF1</td>\n",
       "      <td>Q20H</td>\n",
       "      <td>Neurofibromatosis, type 1</td>\n",
       "      <td>Uncertain significance</td>\n",
       "      <td>Oct 7, 2019</td>\n",
       "      <td>17.0</td>\n",
       "      <td>17.0</td>\n",
       "      <td>965727</td>\n",
       "    </tr>\n",
       "    <tr>\n",
       "      <th>4</th>\n",
       "      <td>NM_000267.3(NF1):c.60+1G&gt;C</td>\n",
       "      <td>NF1</td>\n",
       "      <td>NaN</td>\n",
       "      <td>Neurofibromatosis, type 1</td>\n",
       "      <td>Likely pathogenic</td>\n",
       "      <td>Aug 28, 2018</td>\n",
       "      <td>17.0</td>\n",
       "      <td>17.0</td>\n",
       "      <td>663201</td>\n",
       "    </tr>\n",
       "  </tbody>\n",
       "</table>\n",
       "</div>"
      ],
      "text/plain": [
       "                                       Name Gene(s) Protein change  \\\n",
       "0  NM_001042492.3(NF1):c.58C>G (p.Gln20Glu)     NF1           Q20E   \n",
       "1     NM_000267.3(NF1):c.58C>T (p.Gln20Ter)     NF1           Q20*   \n",
       "2     NM_000267.3(NF1):c.59A>C (p.Gln20Pro)     NF1           Q20P   \n",
       "3  NM_001042492.3(NF1):c.60G>C (p.Gln20His)     NF1           Q20H   \n",
       "4                NM_000267.3(NF1):c.60+1G>C     NF1            NaN   \n",
       "\n",
       "                   diagnosis   Clinical significance Last_review_date  \\\n",
       "0  Neurofibromatosis, type 1  Uncertain significance      Nov 8, 2019   \n",
       "1  Neurofibromatosis, type 1              Pathogenic      Jan 7, 2019   \n",
       "2  Neurofibromatosis, type 1  Uncertain significance      Aug 2, 2018   \n",
       "3  Neurofibromatosis, type 1  Uncertain significance      Oct 7, 2019   \n",
       "4  Neurofibromatosis, type 1       Likely pathogenic     Aug 28, 2018   \n",
       "\n",
       "  GRCh37Chromosome GRCh38Chromosome  VariationID  \n",
       "0             17.0             17.0       955226  \n",
       "1             17.0             17.0       576465  \n",
       "2             17.0             17.0       650986  \n",
       "3             17.0             17.0       965727  \n",
       "4             17.0             17.0       663201  "
      ]
     },
     "execution_count": 3,
     "metadata": {},
     "output_type": "execute_result"
    }
   ],
   "source": [
    "clinvar_data.head()"
   ]
  },
  {
   "cell_type": "markdown",
   "metadata": {},
   "source": [
    "## Define the QA model"
   ]
  },
  {
   "cell_type": "code",
   "execution_count": 7,
   "metadata": {},
   "outputs": [],
   "source": [
    "# free up space if needed\n",
    "#!curl -X PUT -H \"Content-Type: application/json\" http://127.0.0.1:9200/_all/_settings -d '{\"index.blocks.read_only_allow_delete\": null}'"
   ]
  },
  {
   "cell_type": "code",
   "execution_count": 2,
   "metadata": {},
   "outputs": [
    {
     "name": "stderr",
     "output_type": "stream",
     "text": [
      "11/12/2020 09:40:02 - INFO - elasticsearch -   PUT http://localhost:9200/document [status:200 request:0.453s]\n",
      "11/12/2020 09:40:02 - INFO - elasticsearch -   PUT http://localhost:9200/label [status:200 request:0.170s]\n"
     ]
    }
   ],
   "source": [
    "document_store = ElasticsearchDocumentStore(host=\"localhost\", username=\"\", password=\"\", index=\"document\")"
   ]
  },
  {
   "cell_type": "code",
   "execution_count": 8,
   "metadata": {},
   "outputs": [
    {
     "name": "stderr",
     "output_type": "stream",
     "text": [
      "10/11/2020 22:02:48 - INFO - elasticsearch -   POST http://localhost:9200/document/_delete_by_query [status:200 request:0.693s]\n"
     ]
    }
   ],
   "source": [
    "document_store.delete_all_documents(index = 'document')"
   ]
  },
  {
   "cell_type": "code",
   "execution_count": 3,
   "metadata": {},
   "outputs": [
    {
     "name": "stderr",
     "output_type": "stream",
     "text": [
      "11/12/2020 09:40:06 - INFO - elasticsearch -   POST http://localhost:9200/document/_count [status:200 request:0.133s]\n"
     ]
    },
    {
     "data": {
      "text/plain": [
       "0"
      ]
     },
     "execution_count": 3,
     "metadata": {},
     "output_type": "execute_result"
    }
   ],
   "source": [
    "document_store.get_document_count()"
   ]
  },
  {
   "cell_type": "code",
   "execution_count": 22,
   "metadata": {},
   "outputs": [],
   "source": [
    "retriever = ElasticsearchRetriever(document_store=document_store)"
   ]
  },
  {
   "cell_type": "code",
   "execution_count": 23,
   "metadata": {},
   "outputs": [
    {
     "name": "stderr",
     "output_type": "stream",
     "text": [
      "11/10/2020 17:39:13 - INFO - farm.utils -   device: cpu n_gpu: 0, distributed training: False, automatic mixed precision training: None\n",
      "11/10/2020 17:39:13 - INFO - farm.infer -   Could not find `ktrapeznikov/biobert_v1.1_pubmed_squad_v2` locally. Try to download from model hub ...\n",
      "11/10/2020 17:39:17 - WARNING - farm.modeling.language_model -   Could not automatically detect from language model name what language it is. \n",
      "\t We guess it's an *ENGLISH* model ... \n",
      "\t If not: Init the language model by supplying the 'language' param.\n",
      "11/10/2020 17:39:24 - INFO - farm.utils -   device: cpu n_gpu: 0, distributed training: False, automatic mixed precision training: None\n",
      "11/10/2020 17:39:24 - INFO - farm.infer -   Got ya 7 parallel workers to do inference ...\n",
      "11/10/2020 17:39:24 - INFO - farm.infer -    0    0    0    0    0    0    0 \n",
      "11/10/2020 17:39:24 - INFO - farm.infer -   /w\\  /w\\  /w\\  /w\\  /w\\  /w\\  /w\\\n",
      "11/10/2020 17:39:24 - INFO - farm.infer -   /'\\  / \\  /'\\  /'\\  / \\  / \\  /'\\\n",
      "11/10/2020 17:39:24 - INFO - farm.infer -               \n"
     ]
    }
   ],
   "source": [
    "# use the pretrained bert model on the biology pubmed dataset\n",
    "reader = FARMReader(\"ktrapeznikov/biobert_v1.1_pubmed_squad_v2\", use_gpu=False)"
   ]
  },
  {
   "cell_type": "code",
   "execution_count": 33,
   "metadata": {},
   "outputs": [
    {
     "name": "stderr",
     "output_type": "stream",
     "text": [
      "11/10/2020 19:20:44 - INFO - haystack.reader.farm -   Saving reader model to ../model/\n"
     ]
    }
   ],
   "source": [
    "reader.save(\"../model/\")"
   ]
  },
  {
   "cell_type": "code",
   "execution_count": 24,
   "metadata": {},
   "outputs": [],
   "source": [
    "finder = Finder(reader, retriever)"
   ]
  },
  {
   "cell_type": "markdown",
   "metadata": {},
   "source": [
    "## Articles XML files"
   ]
  },
  {
   "cell_type": "code",
   "execution_count": 5,
   "metadata": {},
   "outputs": [],
   "source": [
    "all_doc_files = glob.glob('../data/HACKXML0000000004/**/*.xml', recursive=True)[1:]"
   ]
  },
  {
   "cell_type": "code",
   "execution_count": 8,
   "metadata": {},
   "outputs": [
    {
     "data": {
      "text/plain": [
       "263"
      ]
     },
     "execution_count": 8,
     "metadata": {},
     "output_type": "execute_result"
    }
   ],
   "source": [
    "len(all_doc_files)"
   ]
  },
  {
   "cell_type": "code",
   "execution_count": 6,
   "metadata": {},
   "outputs": [],
   "source": [
    "def nf2020toDict():\n",
    "    paths = \"../data/HACKXML0000000004/**/*.xml\"\n",
    "    target_tags = ['simple-para', 'para']\n",
    "\n",
    "    docs = []\n",
    "    for path in glob.glob(paths)[1:]:\n",
    "        with open(path, 'r') as f: \n",
    "            data = BeautifulSoup(f.read() , \"xml\") \n",
    "        temp = {}\n",
    "        temp[\"meta\"] = {}\n",
    "        temp[\"meta\"]['title'] = data.find('title').getText()\n",
    "        temp[\"meta\"][\"paper_id\"] = data.find('aid').getText()\n",
    "        temp[\"meta\"][\"doi\"] = data.find('doi').getText()\n",
    "        temp[\"meta\"][\"jid\"] = data.find('jid').getText()\n",
    "        \n",
    "        paper_text = [t for t in data.find_all(text=True) if t.parent.name in target_tags]\n",
    "        temp[\"text\"] = ''.join(paper_text)\n",
    "        \n",
    "        docs.append(temp)\n",
    "    return docs"
   ]
  },
  {
   "cell_type": "code",
   "execution_count": 7,
   "metadata": {},
   "outputs": [],
   "source": [
    "nf_docs = nf2020toDict()"
   ]
  },
  {
   "cell_type": "code",
   "execution_count": 37,
   "metadata": {},
   "outputs": [],
   "source": [
    "#nf_docs[1]['text']"
   ]
  },
  {
   "cell_type": "code",
   "execution_count": 26,
   "metadata": {},
   "outputs": [],
   "source": [
    "#dicts = convert_files_to_dicts(dir_path=doc_dir, clean_func=clean_wiki_text, split_paragraphs=True)"
   ]
  },
  {
   "cell_type": "code",
   "execution_count": 8,
   "metadata": {},
   "outputs": [
    {
     "name": "stderr",
     "output_type": "stream",
     "text": [
      "11/12/2020 09:43:14 - INFO - elasticsearch -   POST http://localhost:9200/_bulk?refresh=wait_for [status:200 request:2.687s]\n"
     ]
    }
   ],
   "source": [
    "# Now, let's write the dicts containing documents to our DB.\n",
    "document_store.write_documents(nf_docs)"
   ]
  },
  {
   "cell_type": "code",
   "execution_count": 9,
   "metadata": {},
   "outputs": [
    {
     "ename": "NameError",
     "evalue": "name 'finder' is not defined",
     "output_type": "error",
     "traceback": [
      "\u001b[0;31m---------------------------------------------------------------------------\u001b[0m",
      "\u001b[0;31mNameError\u001b[0m                                 Traceback (most recent call last)",
      "\u001b[0;32m<ipython-input-9-6a289d040d21>\u001b[0m in \u001b[0;36m<module>\u001b[0;34m\u001b[0m\n\u001b[0;32m----> 1\u001b[0;31m \u001b[0mprediction\u001b[0m \u001b[0;34m=\u001b[0m \u001b[0mfinder\u001b[0m\u001b[0;34m.\u001b[0m\u001b[0mget_answers\u001b[0m\u001b[0;34m(\u001b[0m\u001b[0mquestion\u001b[0m\u001b[0;34m=\u001b[0m\u001b[0;34m\"What is Neurofibromatosis\"\u001b[0m\u001b[0;34m,\u001b[0m \u001b[0mtop_k_retriever\u001b[0m\u001b[0;34m=\u001b[0m\u001b[0;36m10\u001b[0m\u001b[0;34m,\u001b[0m \u001b[0mtop_k_reader\u001b[0m\u001b[0;34m=\u001b[0m\u001b[0;36m5\u001b[0m\u001b[0;34m)\u001b[0m\u001b[0;34m\u001b[0m\u001b[0;34m\u001b[0m\u001b[0m\n\u001b[0m",
      "\u001b[0;31mNameError\u001b[0m: name 'finder' is not defined"
     ]
    }
   ],
   "source": [
    "prediction = finder.get_answers(question=\"What is Neurofibromatosis\", top_k_retriever=10, top_k_reader=5)"
   ]
  },
  {
   "cell_type": "code",
   "execution_count": 16,
   "metadata": {},
   "outputs": [
    {
     "name": "stdout",
     "output_type": "stream",
     "text": [
      "[   {   'answer': 'benign neurofibroma',\n",
      "        'context': 'is muscle in 2001. The pathological diagnoses were '\n",
      "                   'lipofibroma or benign neurofibroma.When he presented at '\n",
      "                   'our department in 2005, computed tomography'},\n",
      "    {   'answer': 'subperiosteal neurofibromas',\n",
      "        'context': 'e represents only the third case in the medical literature '\n",
      "                   'of subperiosteal neurofibromas presenting with '\n",
      "                   'subperiosteal hemorrhage. As in this case, t'},\n",
      "    {   'answer': 'neurofibromatosis',\n",
      "        'context': 'to be differentiated from a long list of diagnoses . '\n",
      "                   'Historically, neurofibromatosis was the most common '\n",
      "                   'mistaken diagnosis. The most important step i'},\n",
      "    {   'answer': 'dermal neurofibroma',\n",
      "        'context': 'ciated MPNST patients.Previously, we established a mouse '\n",
      "                   'model of dermal neurofibroma (dNF) where we demonstrate '\n",
      "                   'that -deficient SKPs can give rise to'},\n",
      "    {   'answer': 'one of the most common human genetic disorders of the '\n",
      "                  'nervous system',\n",
      "        'context': 'tients.Neurofibromatosis type 1 (NF1) is one of the most '\n",
      "                   'common human genetic disorders of the nervous system and '\n",
      "                   'affects one in 3,500 individuals aro'}]\n"
     ]
    }
   ],
   "source": [
    "print_answers(prediction, details=\"minimal\")"
   ]
  },
  {
   "cell_type": "markdown",
   "metadata": {},
   "source": [
    "## Other paper docs only containing the abstract"
   ]
  },
  {
   "cell_type": "code",
   "execution_count": 10,
   "metadata": {},
   "outputs": [],
   "source": [
    "ctf_hackathon_doc = pd.read_json('../data/ctf-hackathon-upload.json', lines=True)"
   ]
  },
  {
   "cell_type": "code",
   "execution_count": 11,
   "metadata": {},
   "outputs": [
    {
     "data": {
      "text/plain": [
       "Index(['Eid', 'abstract', 'affiliation_organization', 'title', 'year',\n",
       "       'sourcetitle', 'issn_print', 'doi', 'openaccess', 'meta_language',\n",
       "       'References', 'pmid', 'publishername', 'keywords', 'funding_text'],\n",
       "      dtype='object')"
      ]
     },
     "execution_count": 11,
     "metadata": {},
     "output_type": "execute_result"
    }
   ],
   "source": [
    "ctf_hackathon_doc.columns"
   ]
  },
  {
   "cell_type": "code",
   "execution_count": 12,
   "metadata": {},
   "outputs": [
    {
     "data": {
      "text/plain": [
       "(5702, 15)"
      ]
     },
     "execution_count": 12,
     "metadata": {},
     "output_type": "execute_result"
    }
   ],
   "source": [
    "ctf_hackathon_doc.shape"
   ]
  },
  {
   "cell_type": "code",
   "execution_count": 13,
   "metadata": {},
   "outputs": [
    {
     "data": {
      "text/plain": [
       "5129"
      ]
     },
     "execution_count": 13,
     "metadata": {},
     "output_type": "execute_result"
    }
   ],
   "source": [
    "len(ctf_hackathon_doc.doi.unique())"
   ]
  },
  {
   "cell_type": "code",
   "execution_count": 14,
   "metadata": {},
   "outputs": [],
   "source": [
    "with open('../data/HACKXML0000000004/dataset.xml', 'r') as f: \n",
    "    papers_info = f.read() \n",
    "papers_info_data = BeautifulSoup(papers_info, \"xml\") "
   ]
  },
  {
   "cell_type": "code",
   "execution_count": 26,
   "metadata": {},
   "outputs": [
    {
     "data": {
      "text/plain": [
       "array(['aid', 'article-number', 'collection-title', 'dataset',\n",
       "       'dataset-action', 'dataset-content', 'dataset-properties',\n",
       "       'dataset-unique-ids', 'delayed-sponsored-article', 'doi',\n",
       "       'dtd-version', 'embargo', 'files-info', 'filesize',\n",
       "       'funding-body-id', 'issn', 'jid', 'jid-aid', 'journal-item',\n",
       "       'journal-item-properties', 'journal-item-unique-ids', 'ml',\n",
       "       'online-publication-date', 'pathname', 'pii', 'pit',\n",
       "       'production-process', 'production-type', 'profile-code',\n",
       "       'profile-dataset-id', 'purpose', 'sponsored-access', 'stage',\n",
       "       'timestamp', 'type', 'version', 'version-number', 'weight'],\n",
       "      dtype='<U25')"
      ]
     },
     "execution_count": 26,
     "metadata": {},
     "output_type": "execute_result"
    }
   ],
   "source": [
    "np.unique([tag.name for tag in papers_info_data.find_all()])"
   ]
  },
  {
   "cell_type": "code",
   "execution_count": 15,
   "metadata": {},
   "outputs": [],
   "source": [
    "paper_xml_doi_ls = np.unique([t.getText() for t in papers_info_data.find_all('doi')])"
   ]
  },
  {
   "cell_type": "code",
   "execution_count": 16,
   "metadata": {},
   "outputs": [],
   "source": [
    "# other nf docs\n",
    "other_nfpaper_docs = ctf_hackathon_doc[~ctf_hackathon_doc.doi.isin(paper_xml_doi_ls)].copy()"
   ]
  },
  {
   "cell_type": "code",
   "execution_count": 17,
   "metadata": {},
   "outputs": [
    {
     "data": {
      "text/plain": [
       "(5440, 15)"
      ]
     },
     "execution_count": 17,
     "metadata": {},
     "output_type": "execute_result"
    }
   ],
   "source": [
    "other_nfpaper_docs.shape"
   ]
  },
  {
   "cell_type": "code",
   "execution_count": 38,
   "metadata": {},
   "outputs": [
    {
     "data": {
      "text/html": [
       "<div>\n",
       "<style scoped>\n",
       "    .dataframe tbody tr th:only-of-type {\n",
       "        vertical-align: middle;\n",
       "    }\n",
       "\n",
       "    .dataframe tbody tr th {\n",
       "        vertical-align: top;\n",
       "    }\n",
       "\n",
       "    .dataframe thead th {\n",
       "        text-align: right;\n",
       "    }\n",
       "</style>\n",
       "<table border=\"1\" class=\"dataframe\">\n",
       "  <thead>\n",
       "    <tr style=\"text-align: right;\">\n",
       "      <th></th>\n",
       "      <th>Eid</th>\n",
       "      <th>abstract</th>\n",
       "      <th>affiliation_organization</th>\n",
       "      <th>title</th>\n",
       "      <th>year</th>\n",
       "      <th>sourcetitle</th>\n",
       "      <th>issn_print</th>\n",
       "      <th>doi</th>\n",
       "      <th>openaccess</th>\n",
       "      <th>meta_language</th>\n",
       "      <th>References</th>\n",
       "      <th>pmid</th>\n",
       "      <th>publishername</th>\n",
       "      <th>keywords</th>\n",
       "      <th>funding_text</th>\n",
       "    </tr>\n",
       "  </thead>\n",
       "  <tbody>\n",
       "    <tr>\n",
       "      <th>2138</th>\n",
       "      <td>84872359373</td>\n",
       "      <td>Background context: An extraforaminal disc herniation may present as a retro...</td>\n",
       "      <td>[[Department of Neurologic Surgery, Mayo Clinic], [Department of Radiology, ...</td>\n",
       "      <td>L5-S1 extraforaminal intraneural disc herniation mimicking a malignant perip...</td>\n",
       "      <td>2012</td>\n",
       "      <td>Spine Journal</td>\n",
       "      <td>[15299430]</td>\n",
       "      <td>10.1016/j.spinee.2012.10.033</td>\n",
       "      <td>None</td>\n",
       "      <td>English</td>\n",
       "      <td>[Tarlov, I.M., , Spinal perineurial and meningeal cysts. (1970), Journal of ...</td>\n",
       "      <td>23246211.0</td>\n",
       "      <td>Elsevier Inc.</td>\n",
       "      <td>[Herniated disc, Lumbar, Malignant peripheral nerve sheath tumor, Retroperit...</td>\n",
       "      <td>NaN</td>\n",
       "    </tr>\n",
       "    <tr>\n",
       "      <th>3406</th>\n",
       "      <td>84897930288</td>\n",
       "      <td>Gastrointestinal stromal tumors (GIST) are the most common mesenchymatous ne...</td>\n",
       "      <td>[[Servicios de Genética, Hospital Provincial Neuquén], [Servicios de Oncolog...</td>\n",
       "      <td>Dysphagia, melanosis, gastrointestinal stromal tumors and a germinal mutatio...</td>\n",
       "      <td>2014</td>\n",
       "      <td>Acta Gastroenterologica Latinoamericana</td>\n",
       "      <td>[03009033]</td>\n",
       "      <td>NaN</td>\n",
       "      <td>NaN</td>\n",
       "      <td>English</td>\n",
       "      <td>[Beghini, A., Tibiletti, M., Roversi, G., Chiaravalli, A., Serio, G., Capell...</td>\n",
       "      <td>24847623.0</td>\n",
       "      <td>Sociedad Argentina de Gastroenterologia</td>\n",
       "      <td>[Dysphagia, GIST, KIT]</td>\n",
       "      <td>NaN</td>\n",
       "    </tr>\n",
       "    <tr>\n",
       "      <th>3995</th>\n",
       "      <td>85076330369</td>\n",
       "      <td>Background Neurofibromatosis type 1 (NF1) is a rare genetic disorder with us...</td>\n",
       "      <td>[[Department of Psychology, University of Oslo], [Frambu Resource Centre for...</td>\n",
       "      <td>Health complaints and work experiences among adults with neurofibromatosis 1</td>\n",
       "      <td>2019</td>\n",
       "      <td>Occupational Medicine</td>\n",
       "      <td>[09627480]</td>\n",
       "      <td>10.1093/occmed/kqz134</td>\n",
       "      <td>None</td>\n",
       "      <td>English</td>\n",
       "      <td>[Abramowicz, A., Gos, M., , Neurofibromin in neurofibromatosis type 1 - muta...</td>\n",
       "      <td>31674646.0</td>\n",
       "      <td>Oxford University Press</td>\n",
       "      <td>[Disability, NF1, Neurofibromatosis type 1, Rare disorders, Subjective healt...</td>\n",
       "      <td>NaN</td>\n",
       "    </tr>\n",
       "    <tr>\n",
       "      <th>3827</th>\n",
       "      <td>84923699181</td>\n",
       "      <td>Summary: Malignant peripheral nerve sheath tumour (MPNST) is a rare variety ...</td>\n",
       "      <td>[[Department of Radiation Oncology, Dr BRA Institute Rotary Cancer Hospital,...</td>\n",
       "      <td>Malignant peripheral nerve sheath tumour of penis</td>\n",
       "      <td>2015</td>\n",
       "      <td>Andrologia</td>\n",
       "      <td>[03034569]</td>\n",
       "      <td>10.1111/and.12267</td>\n",
       "      <td>None</td>\n",
       "      <td>English</td>\n",
       "      <td>[Mortell, A., Amjad, B., Breatnach, F., Devaney, D., Puri, P., , Penile mali...</td>\n",
       "      <td>24635732.0</td>\n",
       "      <td>Blackwell Publishing Ltd</td>\n",
       "      <td>[Malignant peripheral nerve sheath tumour, Multimodality, Penis, Treatment]</td>\n",
       "      <td>NaN</td>\n",
       "    </tr>\n",
       "    <tr>\n",
       "      <th>1843</th>\n",
       "      <td>84925385178</td>\n",
       "      <td>We present the first case of pediatric intracranial Mycobacterium abscessus ...</td>\n",
       "      <td>[[Department of Pediatrics, Georgia Regents University, University of Georgi...</td>\n",
       "      <td>Intracranial Mycobacterium abscessus infection in a healthy toddler</td>\n",
       "      <td>2015</td>\n",
       "      <td>Journal of Pediatric Infectious Diseases</td>\n",
       "      <td>[13057707]</td>\n",
       "      <td>10.1097/INF.0000000000000520</td>\n",
       "      <td>None</td>\n",
       "      <td>English</td>\n",
       "      <td>[Kiliç, S., Tezcan, I., Sanal, O., Ersoy, F., , Common variable immunodefici...</td>\n",
       "      <td>25144796.0</td>\n",
       "      <td>IOS Press</td>\n",
       "      <td>[Brain/pathology, Female, Humans, M. Abscessus, Mycobacterium infections/mic...</td>\n",
       "      <td>NaN</td>\n",
       "    </tr>\n",
       "  </tbody>\n",
       "</table>\n",
       "</div>"
      ],
      "text/plain": [
       "              Eid  \\\n",
       "2138  84872359373   \n",
       "3406  84897930288   \n",
       "3995  85076330369   \n",
       "3827  84923699181   \n",
       "1843  84925385178   \n",
       "\n",
       "                                                                             abstract  \\\n",
       "2138  Background context: An extraforaminal disc herniation may present as a retro...   \n",
       "3406  Gastrointestinal stromal tumors (GIST) are the most common mesenchymatous ne...   \n",
       "3995  Background Neurofibromatosis type 1 (NF1) is a rare genetic disorder with us...   \n",
       "3827  Summary: Malignant peripheral nerve sheath tumour (MPNST) is a rare variety ...   \n",
       "1843  We present the first case of pediatric intracranial Mycobacterium abscessus ...   \n",
       "\n",
       "                                                             affiliation_organization  \\\n",
       "2138  [[Department of Neurologic Surgery, Mayo Clinic], [Department of Radiology, ...   \n",
       "3406  [[Servicios de Genética, Hospital Provincial Neuquén], [Servicios de Oncolog...   \n",
       "3995  [[Department of Psychology, University of Oslo], [Frambu Resource Centre for...   \n",
       "3827  [[Department of Radiation Oncology, Dr BRA Institute Rotary Cancer Hospital,...   \n",
       "1843  [[Department of Pediatrics, Georgia Regents University, University of Georgi...   \n",
       "\n",
       "                                                                                title  \\\n",
       "2138  L5-S1 extraforaminal intraneural disc herniation mimicking a malignant perip...   \n",
       "3406  Dysphagia, melanosis, gastrointestinal stromal tumors and a germinal mutatio...   \n",
       "3995     Health complaints and work experiences among adults with neurofibromatosis 1   \n",
       "3827                                Malignant peripheral nerve sheath tumour of penis   \n",
       "1843              Intracranial Mycobacterium abscessus infection in a healthy toddler   \n",
       "\n",
       "      year                               sourcetitle  issn_print  \\\n",
       "2138  2012                             Spine Journal  [15299430]   \n",
       "3406  2014   Acta Gastroenterologica Latinoamericana  [03009033]   \n",
       "3995  2019                     Occupational Medicine  [09627480]   \n",
       "3827  2015                                Andrologia  [03034569]   \n",
       "1843  2015  Journal of Pediatric Infectious Diseases  [13057707]   \n",
       "\n",
       "                               doi openaccess meta_language  \\\n",
       "2138  10.1016/j.spinee.2012.10.033       None       English   \n",
       "3406                           NaN        NaN       English   \n",
       "3995         10.1093/occmed/kqz134       None       English   \n",
       "3827             10.1111/and.12267       None       English   \n",
       "1843  10.1097/INF.0000000000000520       None       English   \n",
       "\n",
       "                                                                           References  \\\n",
       "2138  [Tarlov, I.M., , Spinal perineurial and meningeal cysts. (1970), Journal of ...   \n",
       "3406  [Beghini, A., Tibiletti, M., Roversi, G., Chiaravalli, A., Serio, G., Capell...   \n",
       "3995  [Abramowicz, A., Gos, M., , Neurofibromin in neurofibromatosis type 1 - muta...   \n",
       "3827  [Mortell, A., Amjad, B., Breatnach, F., Devaney, D., Puri, P., , Penile mali...   \n",
       "1843  [Kiliç, S., Tezcan, I., Sanal, O., Ersoy, F., , Common variable immunodefici...   \n",
       "\n",
       "            pmid                            publishername  \\\n",
       "2138  23246211.0                            Elsevier Inc.   \n",
       "3406  24847623.0  Sociedad Argentina de Gastroenterologia   \n",
       "3995  31674646.0                  Oxford University Press   \n",
       "3827  24635732.0                 Blackwell Publishing Ltd   \n",
       "1843  25144796.0                                IOS Press   \n",
       "\n",
       "                                                                             keywords  \\\n",
       "2138  [Herniated disc, Lumbar, Malignant peripheral nerve sheath tumor, Retroperit...   \n",
       "3406                                                           [Dysphagia, GIST, KIT]   \n",
       "3995  [Disability, NF1, Neurofibromatosis type 1, Rare disorders, Subjective healt...   \n",
       "3827      [Malignant peripheral nerve sheath tumour, Multimodality, Penis, Treatment]   \n",
       "1843  [Brain/pathology, Female, Humans, M. Abscessus, Mycobacterium infections/mic...   \n",
       "\n",
       "     funding_text  \n",
       "2138          NaN  \n",
       "3406          NaN  \n",
       "3995          NaN  \n",
       "3827          NaN  \n",
       "1843          NaN  "
      ]
     },
     "execution_count": 38,
     "metadata": {},
     "output_type": "execute_result"
    }
   ],
   "source": [
    "other_nfpaper_docs.sample(5)"
   ]
  },
  {
   "cell_type": "code",
   "execution_count": 18,
   "metadata": {},
   "outputs": [],
   "source": [
    "other_nfpaper_docs_dicts = []\n",
    "for i, row in other_nfpaper_docs.iterrows():\n",
    "    temp = {}\n",
    "    if isinstance(row['abstract'], str):\n",
    "        temp['text'] = row['abstract']\n",
    "        temp['meta'] = {}\n",
    "        temp['meta']['title'] = row['title']\n",
    "        temp['meta']['doi'] = row['doi'] if isinstance(row['doi'], str) else ''\n",
    "        #temp['meta']['References'] = ', '.join(row['References']) if isinstance(row['References'], list) else ''\n",
    "        temp['meta']['keywords'] = ' '.join(row['keywords']) if isinstance(row['keywords'], list) and len(row['keywords'])>0 else ''\n",
    "        other_nfpaper_docs_dicts.append(temp)"
   ]
  },
  {
   "cell_type": "code",
   "execution_count": 41,
   "metadata": {},
   "outputs": [
    {
     "data": {
      "text/plain": [
       "5018"
      ]
     },
     "execution_count": 41,
     "metadata": {},
     "output_type": "execute_result"
    }
   ],
   "source": [
    "len(other_nfpaper_docs_dicts)"
   ]
  },
  {
   "cell_type": "code",
   "execution_count": 42,
   "metadata": {},
   "outputs": [
    {
     "data": {
      "text/plain": [
       "{'text': \"Introduction. Neurofibromatosis type 1 is an autosomal dominant disorder that occurs across all ethnic groups and affects approximately one in 4000 individuals. One of the most noticeable characteristics of the disease is the development of neurofibromas. Case presentation. A total of 258 patients (131 women, 127 men) with neurofibromatosis type 1 were evaluated between 1994 and 2004 in our hospital's dermatology department. Nine patients (3.45%, 95% confidence limits 1.22 to 5.68) had neurofibromas of the breast. One of these nine patients presented with an extensive congenital plexiform neurofibroma in the outer quadrants of her right breast, extending to the nipple-areolar complex. Meanwhile, three patients had more than one neurofibroma on the nipple-areolar complexes. Three patients had a family history of neurofibroma. Over the years 1994 to 2004, the cutaneous lesions were not associated with any malignancies. Presenting symptoms were related to conditions such as increasing size of the mass, and associated loss of function and pain. Conclusions. This study suggests that the changes are limited to particular subgroups. That neurofibromatosis is more prevalent in women (7 women and 2 men) suggests that being female could be a susceptibility factor for the development of neurofibromas of the nipple-areolar complexes. There are few reports in the literature describing breast carcinomas in association with von Recklinghausen disease. It has been speculated that the presence of multiple neurofibromas of the breast may obscure a breast mass at palpation, leading to a delay in clinical detection. We suggest that patients with neurofibromas of the breast have more rigorous clinical and mammographic screening of the breast during adulthood to determine the presence or absence of malignancies. The finding that both the neurofibromatosis type 1 gene and a breast cancer predisposition gene are located in close proximity on chromosome 17q makes the association of these two conditions intriguing. © 2010 Rita et al; licensee BioMed Central Ltd.\",\n",
       " 'meta': {'title': 'Neurofibromatosis of the nipple-areolar area: A case series',\n",
       "  'doi': '10.1186/1752-1947-4-22',\n",
       "  'keywords': ''}}"
      ]
     },
     "execution_count": 42,
     "metadata": {},
     "output_type": "execute_result"
    }
   ],
   "source": [
    "other_nfpaper_docs_dicts[0]"
   ]
  },
  {
   "cell_type": "code",
   "execution_count": 19,
   "metadata": {},
   "outputs": [
    {
     "name": "stderr",
     "output_type": "stream",
     "text": [
      "11/12/2020 09:46:36 - INFO - elasticsearch -   POST http://localhost:9200/document/_count [status:200 request:0.019s]\n"
     ]
    },
    {
     "data": {
      "text/plain": [
       "262"
      ]
     },
     "execution_count": 19,
     "metadata": {},
     "output_type": "execute_result"
    }
   ],
   "source": [
    "document_store.get_document_count()"
   ]
  },
  {
   "cell_type": "code",
   "execution_count": 20,
   "metadata": {},
   "outputs": [
    {
     "name": "stderr",
     "output_type": "stream",
     "text": [
      "11/12/2020 09:46:49 - INFO - elasticsearch -   POST http://localhost:9200/_bulk?refresh=wait_for [status:200 request:0.807s]\n",
      "11/12/2020 09:46:51 - INFO - elasticsearch -   POST http://localhost:9200/_bulk?refresh=wait_for [status:200 request:1.087s]\n",
      "11/12/2020 09:46:52 - INFO - elasticsearch -   POST http://localhost:9200/_bulk?refresh=wait_for [status:200 request:1.038s]\n",
      "11/12/2020 09:46:53 - INFO - elasticsearch -   POST http://localhost:9200/_bulk?refresh=wait_for [status:200 request:1.025s]\n",
      "11/12/2020 09:46:54 - INFO - elasticsearch -   POST http://localhost:9200/_bulk?refresh=wait_for [status:200 request:1.039s]\n",
      "11/12/2020 09:46:55 - INFO - elasticsearch -   POST http://localhost:9200/_bulk?refresh=wait_for [status:200 request:1.036s]\n",
      "11/12/2020 09:46:56 - INFO - elasticsearch -   POST http://localhost:9200/_bulk?refresh=wait_for [status:200 request:1.003s]\n",
      "11/12/2020 09:46:57 - INFO - elasticsearch -   POST http://localhost:9200/_bulk?refresh=wait_for [status:200 request:1.018s]\n",
      "11/12/2020 09:46:58 - INFO - elasticsearch -   POST http://localhost:9200/_bulk?refresh=wait_for [status:200 request:0.906s]\n",
      "11/12/2020 09:46:59 - INFO - elasticsearch -   POST http://localhost:9200/_bulk?refresh=wait_for [status:200 request:1.025s]\n",
      "11/12/2020 09:47:00 - INFO - elasticsearch -   POST http://localhost:9200/_bulk?refresh=wait_for [status:200 request:1.019s]\n"
     ]
    }
   ],
   "source": [
    "document_store.write_documents(other_nfpaper_docs_dicts)"
   ]
  },
  {
   "cell_type": "code",
   "execution_count": 45,
   "metadata": {},
   "outputs": [
    {
     "name": "stderr",
     "output_type": "stream",
     "text": [
      "11/07/2020 16:55:24 - INFO - elasticsearch -   POST http://localhost:9200/document/_count [status:200 request:0.007s]\n"
     ]
    },
    {
     "data": {
      "text/plain": [
       "5280"
      ]
     },
     "execution_count": 45,
     "metadata": {},
     "output_type": "execute_result"
    }
   ],
   "source": [
    "document_store.get_document_count()"
   ]
  },
  {
   "cell_type": "code",
   "execution_count": 46,
   "metadata": {},
   "outputs": [
    {
     "data": {
      "text/plain": [
       "2528    We report a case of synchronous multiple colon adenocarcinomas in a patient ...\n",
       "5481                                                                                NaN\n",
       "4221    Neurofibromin regulates cell motility via three distinct GTPase pathways act...\n",
       "4120    Optic pathway gliomas (OPGs) occur in 1520 of children with neurofibromatosi...\n",
       "Name: abstract, dtype: object"
      ]
     },
     "execution_count": 46,
     "metadata": {},
     "output_type": "execute_result"
    }
   ],
   "source": [
    "other_nfpaper_docs.sample(4)['abstract']"
   ]
  },
  {
   "cell_type": "code",
   "execution_count": 47,
   "metadata": {},
   "outputs": [
    {
     "name": "stderr",
     "output_type": "stream",
     "text": [
      "11/07/2020 16:55:46 - INFO - elasticsearch -   POST http://localhost:9200/document/_search [status:200 request:0.031s]\n",
      "11/07/2020 16:55:46 - INFO - haystack.retriever.sparse -   Got 10 candidates from retriever\n",
      "11/07/2020 16:55:46 - INFO - haystack.finder -   Reader is looking for detailed answer in 12810 chars ...\n",
      "Inferencing Samples: 100%|██████████| 1/1 [00:03<00:00,  3.20s/ Batches]\n",
      "Inferencing Samples: 100%|██████████| 1/1 [00:01<00:00,  1.74s/ Batches]\n",
      "Inferencing Samples: 100%|██████████| 1/1 [00:01<00:00,  1.19s/ Batches]\n",
      "Inferencing Samples: 100%|██████████| 1/1 [00:01<00:00,  1.70s/ Batches]\n",
      "Inferencing Samples: 100%|██████████| 1/1 [00:01<00:00,  1.17s/ Batches]\n",
      "Inferencing Samples: 100%|██████████| 1/1 [00:01<00:00,  1.67s/ Batches]\n",
      "Inferencing Samples: 100%|██████████| 1/1 [00:00<00:00,  1.72 Batches/s]\n",
      "Inferencing Samples: 100%|██████████| 1/1 [00:01<00:00,  1.66s/ Batches]\n",
      "Inferencing Samples: 100%|██████████| 1/1 [00:00<00:00,  1.71 Batches/s]\n",
      "Inferencing Samples: 100%|██████████| 1/1 [00:01<00:00,  1.73s/ Batches]\n"
     ]
    }
   ],
   "source": [
    "%timeit\n",
    "prediction = finder.get_answers(question=\"Will NF1 turn into NF2\", top_k_retriever=10, top_k_reader=5)"
   ]
  },
  {
   "cell_type": "code",
   "execution_count": 102,
   "metadata": {},
   "outputs": [
    {
     "name": "stdout",
     "output_type": "stream",
     "text": [
      "[   {   'answer': 'There is no targeted drug therapy',\n",
      "        'context': ' Purpose: There is no targeted drug therapy for NF2 '\n",
      "                   'patients, and surgery or radiosurgery is not always '\n",
      "                   'effective. Therefore, the exploration of new t'},\n",
      "    {   'answer': 'This will generate new ideas about the biological '\n",
      "                  'mechanisms involved in autism, which in turn may provide '\n",
      "                  'new leads for the development of novel pharmaceutical '\n",
      "                  'compounds.',\n",
      "        'context': ' This will generate new ideas about the biological '\n",
      "                   'mechanisms involved in autism, which in turn may provide '\n",
      "                   'new leads for the development of novel pharmaceutical '\n",
      "                   'compounds.'},\n",
      "    {   'answer': 'neurofibromatosis type 2',\n",
      "        'context': ' and researchers interested in neurofibromatosis type 1 '\n",
      "                   '(NF1), neurofibromatosis type 2 (NF2), and schwannomatosis '\n",
      "                   '(SWN). The 2016 edition constituted'},\n",
      "    {   'answer': 'development of NF2 or SWN associated schwannomas',\n",
      "        'context': 'ding the musculoskeletal abnormalities in NF1, the '\n",
      "                   'development of NF2 or SWN associated schwannomas, and '\n",
      "                   'clarifying the cells that give rise to NF1-as'},\n",
      "    {   'answer': 'NF2-associated schwannoma cells induced monocytes '\n",
      "                  'transformation into an HLA-DR − CD33 + CD11b + phenotype',\n",
      "        'context': 'ry T cells phenotype. NF2-associated schwannoma cells '\n",
      "                   'induced monocytes transformation into an HLA-DR − CD33 + '\n",
      "                   'CD11b + phenotype, and surgical removal'}]\n"
     ]
    }
   ],
   "source": [
    "print_answers(prediction, details=\"minimal\")"
   ]
  },
  {
   "cell_type": "markdown",
   "metadata": {},
   "source": [
    "## Compiled PDF docs from the NF Registry website"
   ]
  },
  {
   "cell_type": "code",
   "execution_count": 21,
   "metadata": {},
   "outputs": [
    {
     "name": "stderr",
     "output_type": "stream",
     "text": [
      "11/12/2020 09:47:29 - INFO - elasticsearch -   POST http://localhost:9200/document/_count [status:200 request:0.010s]\n"
     ]
    },
    {
     "data": {
      "text/plain": [
       "5280"
      ]
     },
     "execution_count": 21,
     "metadata": {},
     "output_type": "execute_result"
    }
   ],
   "source": [
    "document_store.get_document_count()"
   ]
  },
  {
   "cell_type": "code",
   "execution_count": 22,
   "metadata": {},
   "outputs": [
    {
     "name": "stderr",
     "output_type": "stream",
     "text": [
      "11/12/2020 09:48:23 - INFO - haystack.preprocessor.utils -   Converting ../data/nf_info_pdfs/Genetics of NF - Children-s Tumor Foundation.pdf\n",
      "11/12/2020 09:48:23 - INFO - haystack.preprocessor.utils -   Converting ../data/nf_info_pdfs/Schwannomatosis - Children-s Tumor Foundation.pdf\n",
      "11/12/2020 09:48:23 - INFO - haystack.preprocessor.utils -   Converting ../data/nf_info_pdfs/CTF_About_NF2_Info_Sheet-2019.pdf\n",
      "11/12/2020 09:48:23 - INFO - haystack.preprocessor.utils -   Converting ../data/nf_info_pdfs/NF1 - Children-s Tumor Foundation.pdf\n",
      "11/12/2020 09:48:23 - INFO - haystack.preprocessor.utils -   Converting ../data/nf_info_pdfs/About_NF_120315.pdf\n",
      "11/12/2020 09:48:23 - INFO - haystack.preprocessor.utils -   Converting ../data/nf_info_pdfs/NF2 - Children-s Tumor Foundation.pdf\n",
      "11/12/2020 09:48:23 - INFO - haystack.preprocessor.utils -   Converting ../data/nf_info_pdfs/About_Schwannomatosis_Fact_Sheet_2020-2.pdf\n"
     ]
    }
   ],
   "source": [
    "pdf_dicts = convert_files_to_dicts(dir_path='../data/nf_info_pdfs/', split_paragraphs=True)"
   ]
  },
  {
   "cell_type": "code",
   "execution_count": 23,
   "metadata": {},
   "outputs": [],
   "source": [
    "for p in pdf_dicts:\n",
    "    p['text'] = re.sub(r'For more information on.*', '', ' '.join(p['text'].split('\\n')))"
   ]
  },
  {
   "cell_type": "code",
   "execution_count": 24,
   "metadata": {},
   "outputs": [],
   "source": [
    "pdf_docs = [p for p in pdf_dicts if not p['text'].startswith('Help end NF by joining the confidential NF Registry') and len(p['text'])>50]"
   ]
  },
  {
   "cell_type": "code",
   "execution_count": 25,
   "metadata": {},
   "outputs": [
    {
     "data": {
      "text/plain": [
       "7"
      ]
     },
     "execution_count": 25,
     "metadata": {},
     "output_type": "execute_result"
    }
   ],
   "source": [
    "len(pdf_docs)"
   ]
  },
  {
   "cell_type": "code",
   "execution_count": 26,
   "metadata": {},
   "outputs": [
    {
     "name": "stderr",
     "output_type": "stream",
     "text": [
      "11/12/2020 09:48:52 - INFO - elasticsearch -   POST http://localhost:9200/_bulk?refresh=wait_for [status:200 request:0.866s]\n"
     ]
    }
   ],
   "source": [
    "document_store.write_documents(pdf_docs)"
   ]
  },
  {
   "cell_type": "code",
   "execution_count": 27,
   "metadata": {},
   "outputs": [
    {
     "name": "stderr",
     "output_type": "stream",
     "text": [
      "11/12/2020 09:49:06 - INFO - elasticsearch -   POST http://localhost:9200/document/_count [status:200 request:0.024s]\n"
     ]
    },
    {
     "data": {
      "text/plain": [
       "5287"
      ]
     },
     "execution_count": 27,
     "metadata": {},
     "output_type": "execute_result"
    }
   ],
   "source": [
    "document_store.get_document_count()"
   ]
  },
  {
   "cell_type": "code",
   "execution_count": 43,
   "metadata": {},
   "outputs": [],
   "source": [
    "nfregistry_docs = pd.DataFrame.from_dict(pdf_docs)\n",
    "nfregistry_docs['document_identifie'] = nfregistry_docs['meta'].map(lambda x:x['name'].replace('.pdf', ''))\n",
    "nfregistry_docs.rename(columns = {'text': 'document_text'}, inplace = True)\n",
    "nfregistry_docs.drop(columns = 'meta', inplace=True)"
   ]
  },
  {
   "cell_type": "code",
   "execution_count": 44,
   "metadata": {},
   "outputs": [
    {
     "data": {
      "text/html": [
       "<div>\n",
       "<style scoped>\n",
       "    .dataframe tbody tr th:only-of-type {\n",
       "        vertical-align: middle;\n",
       "    }\n",
       "\n",
       "    .dataframe tbody tr th {\n",
       "        vertical-align: top;\n",
       "    }\n",
       "\n",
       "    .dataframe thead th {\n",
       "        text-align: right;\n",
       "    }\n",
       "</style>\n",
       "<table border=\"1\" class=\"dataframe\">\n",
       "  <thead>\n",
       "    <tr style=\"text-align: right;\">\n",
       "      <th></th>\n",
       "      <th>document_text</th>\n",
       "      <th>document_identifie</th>\n",
       "    </tr>\n",
       "  </thead>\n",
       "  <tbody>\n",
       "    <tr>\n",
       "      <th>0</th>\n",
       "      <td>Genetics of NF NF can occur in any family. Affected individuals can inhe fro...</td>\n",
       "      <td>Genetics of NF - Children-s Tumor Foundation</td>\n",
       "    </tr>\n",
       "    <tr>\n",
       "      <th>1</th>\n",
       "      <td>Children's Tumor Foundat About Schwannomatosis Neurofibromatosis, also known...</td>\n",
       "      <td>Schwannomatosis - Children-s Tumor Foundation</td>\n",
       "    </tr>\n",
       "    <tr>\n",
       "      <th>2</th>\n",
       "      <td>ABOUT NEUROFIBROMATOSIS TYPE 2 (NF2)  Neurofibromatosis, or NF, is an under-...</td>\n",
       "      <td>CTF_About_NF2_Info_Sheet-2019</td>\n",
       "    </tr>\n",
       "    <tr>\n",
       "      <th>3</th>\n",
       "      <td>Children's Tumor Foundation About NF1 Neurofibromatosis, also known as NF, i...</td>\n",
       "      <td>NF1 - Children-s Tumor Foundation</td>\n",
       "    </tr>\n",
       "    <tr>\n",
       "      <th>4</th>\n",
       "      <td>N eurofibromatosis, or NF, is an under-recognized genetic disorder that can...</td>\n",
       "      <td>About_NF_120315</td>\n",
       "    </tr>\n",
       "    <tr>\n",
       "      <th>5</th>\n",
       "      <td>Common Signs of NF2 The appearance of the most common signs of NF2 usually v...</td>\n",
       "      <td>NF2 - Children-s Tumor Foundation</td>\n",
       "    </tr>\n",
       "    <tr>\n",
       "      <th>6</th>\n",
       "      <td>ABOUT SCHWANNOMATOSIS  Neurofibromatosis, or NF, is an under-recognized gene...</td>\n",
       "      <td>About_Schwannomatosis_Fact_Sheet_2020-2</td>\n",
       "    </tr>\n",
       "  </tbody>\n",
       "</table>\n",
       "</div>"
      ],
      "text/plain": [
       "                                                                     document_text  \\\n",
       "0  Genetics of NF NF can occur in any family. Affected individuals can inhe fro...   \n",
       "1  Children's Tumor Foundat About Schwannomatosis Neurofibromatosis, also known...   \n",
       "2  ABOUT NEUROFIBROMATOSIS TYPE 2 (NF2)  Neurofibromatosis, or NF, is an under-...   \n",
       "3  Children's Tumor Foundation About NF1 Neurofibromatosis, also known as NF, i...   \n",
       "4   N eurofibromatosis, or NF, is an under-recognized genetic disorder that can...   \n",
       "5  Common Signs of NF2 The appearance of the most common signs of NF2 usually v...   \n",
       "6  ABOUT SCHWANNOMATOSIS  Neurofibromatosis, or NF, is an under-recognized gene...   \n",
       "\n",
       "                              document_identifie  \n",
       "0   Genetics of NF - Children-s Tumor Foundation  \n",
       "1  Schwannomatosis - Children-s Tumor Foundation  \n",
       "2                  CTF_About_NF2_Info_Sheet-2019  \n",
       "3              NF1 - Children-s Tumor Foundation  \n",
       "4                                About_NF_120315  \n",
       "5              NF2 - Children-s Tumor Foundation  \n",
       "6        About_Schwannomatosis_Fact_Sheet_2020-2  "
      ]
     },
     "execution_count": 44,
     "metadata": {},
     "output_type": "execute_result"
    }
   ],
   "source": [
    "nfregistry_docs"
   ]
  },
  {
   "cell_type": "code",
   "execution_count": 45,
   "metadata": {},
   "outputs": [],
   "source": [
    "nfregistry_docs.to_csv('../data/nfregistry_docs/nfregistry_info.csv')"
   ]
  },
  {
   "cell_type": "markdown",
   "metadata": {},
   "source": [
    "## PMC Articles"
   ]
  },
  {
   "cell_type": "code",
   "execution_count": 28,
   "metadata": {},
   "outputs": [],
   "source": [
    "pmc_papers = pd.read_csv(\"../data/pmc_papers.csv\")"
   ]
  },
  {
   "cell_type": "code",
   "execution_count": 29,
   "metadata": {},
   "outputs": [
    {
     "data": {
      "text/html": [
       "<div>\n",
       "<style scoped>\n",
       "    .dataframe tbody tr th:only-of-type {\n",
       "        vertical-align: middle;\n",
       "    }\n",
       "\n",
       "    .dataframe tbody tr th {\n",
       "        vertical-align: top;\n",
       "    }\n",
       "\n",
       "    .dataframe thead th {\n",
       "        text-align: right;\n",
       "    }\n",
       "</style>\n",
       "<table border=\"1\" class=\"dataframe\">\n",
       "  <thead>\n",
       "    <tr style=\"text-align: right;\">\n",
       "      <th></th>\n",
       "      <th>pmc_id</th>\n",
       "      <th>title</th>\n",
       "      <th>authors</th>\n",
       "      <th>affliations</th>\n",
       "      <th>keywords</th>\n",
       "      <th>abstract</th>\n",
       "    </tr>\n",
       "  </thead>\n",
       "  <tbody>\n",
       "    <tr>\n",
       "      <th>0</th>\n",
       "      <td>7643456</td>\n",
       "      <td>Discernment between candidate mechanisms for KRAS G13D colorectal cancer sen...</td>\n",
       "      <td>Stites Edward C., Rossman Kent L., McFall Thomas, Schomburg Noah K.</td>\n",
       "      <td>grid..   Integrative Biology Laboratory, Salk Institute for Biological Studi...</td>\n",
       "      <td>KRAS, GTPase, EGFR, Cancer, Targeted therapy</td>\n",
       "      <td>Phase three clinical trial evidence suggests that colorectal cancers with th...</td>\n",
       "    </tr>\n",
       "    <tr>\n",
       "      <th>1</th>\n",
       "      <td>7643332</td>\n",
       "      <td>Psychometric properties of satisfaction with the childbirth education class ...</td>\n",
       "      <td>Mirghafourvand Mojgan, Mohammad-Alizadeh-Charandabi Sakineh, Meedya Shahla, ...</td>\n",
       "      <td>grid..f   Students’ Research Committee, Tabriz University of Medical science...</td>\n",
       "      <td>Satisfaction, Childbirth education, Validity, Reliability, Psychometric, Iran</td>\n",
       "      <td>Childbirth preparation classes can reduce pregnant women’s anxiety and fear ...</td>\n",
       "    </tr>\n",
       "    <tr>\n",
       "      <th>2</th>\n",
       "      <td>7641497</td>\n",
       "      <td>A Rare Incidence of Metachronous Neurovascular Lesions in a Child</td>\n",
       "      <td>Chandrasekaran Deepak, Azariah Emmanuel D, Chinnaswami Ravindran, Subramani ...</td>\n",
       "      <td>Oral and Maxillofacial Surgery, Sri Ramachandra Institute of Higher Educatio...</td>\n",
       "      <td>mesenchymal tumor, solitary, intraosseous, juvenile, benign, hemimandibulect...</td>\n",
       "      <td>Neurofibroma is an uncommon benign tumor arising from nerve sheath fibroblas...</td>\n",
       "    </tr>\n",
       "    <tr>\n",
       "      <th>3</th>\n",
       "      <td>7640792</td>\n",
       "      <td>A Child with Enlarged Extremities – A Case of Macrodystrophia Lipomatosa</td>\n",
       "      <td>Sundareswaran N, Gopinath G, Gunasekaran K</td>\n",
       "      <td>From the Department of Neurology, Government Mohan Kumaramangalam Medical Co...</td>\n",
       "      <td>Enlarged extremities, focal gigantism, macrodactyly, macrodystrophia lipomatosa</td>\n",
       "      <td>Macrodystrophia lipomatosa (ML) is a rare, non-hereditary, developmental ano...</td>\n",
       "    </tr>\n",
       "    <tr>\n",
       "      <th>4</th>\n",
       "      <td>7609672</td>\n",
       "      <td>Primary pancreatic glomus tumor invading into the superior mesenteric vein: ...</td>\n",
       "      <td>Sasaki Yu, Taki Yoshiro, Tamaki Ichiro, Sasano Hironobu, Komoto Izumi, Hosod...</td>\n",
       "      <td>grid..cDepartment of Surgery, Kansai Electric Power Hospital, Fukushima --, ...</td>\n",
       "      <td>Glomus tumor, Glomangiomyoma, Pancreas, Immunohistochemistry, Surgical resec...</td>\n",
       "      <td>Glomus tumors are subcutaneous tumors arising from glomus bodies, thermoregu...</td>\n",
       "    </tr>\n",
       "  </tbody>\n",
       "</table>\n",
       "</div>"
      ],
      "text/plain": [
       "    pmc_id  \\\n",
       "0  7643456   \n",
       "1  7643332   \n",
       "2  7641497   \n",
       "3  7640792   \n",
       "4  7609672   \n",
       "\n",
       "                                                                             title  \\\n",
       "0  Discernment between candidate mechanisms for KRAS G13D colorectal cancer sen...   \n",
       "1  Psychometric properties of satisfaction with the childbirth education class ...   \n",
       "2                A Rare Incidence of Metachronous Neurovascular Lesions in a Child   \n",
       "3         A Child with Enlarged Extremities – A Case of Macrodystrophia Lipomatosa   \n",
       "4  Primary pancreatic glomus tumor invading into the superior mesenteric vein: ...   \n",
       "\n",
       "                                                                           authors  \\\n",
       "0              Stites Edward C., Rossman Kent L., McFall Thomas, Schomburg Noah K.   \n",
       "1  Mirghafourvand Mojgan, Mohammad-Alizadeh-Charandabi Sakineh, Meedya Shahla, ...   \n",
       "2  Chandrasekaran Deepak, Azariah Emmanuel D, Chinnaswami Ravindran, Subramani ...   \n",
       "3                                       Sundareswaran N, Gopinath G, Gunasekaran K   \n",
       "4  Sasaki Yu, Taki Yoshiro, Tamaki Ichiro, Sasano Hironobu, Komoto Izumi, Hosod...   \n",
       "\n",
       "                                                                       affliations  \\\n",
       "0  grid..   Integrative Biology Laboratory, Salk Institute for Biological Studi...   \n",
       "1  grid..f   Students’ Research Committee, Tabriz University of Medical science...   \n",
       "2  Oral and Maxillofacial Surgery, Sri Ramachandra Institute of Higher Educatio...   \n",
       "3  From the Department of Neurology, Government Mohan Kumaramangalam Medical Co...   \n",
       "4  grid..cDepartment of Surgery, Kansai Electric Power Hospital, Fukushima --, ...   \n",
       "\n",
       "                                                                          keywords  \\\n",
       "0                                     KRAS, GTPase, EGFR, Cancer, Targeted therapy   \n",
       "1    Satisfaction, Childbirth education, Validity, Reliability, Psychometric, Iran   \n",
       "2  mesenchymal tumor, solitary, intraosseous, juvenile, benign, hemimandibulect...   \n",
       "3  Enlarged extremities, focal gigantism, macrodactyly, macrodystrophia lipomatosa   \n",
       "4  Glomus tumor, Glomangiomyoma, Pancreas, Immunohistochemistry, Surgical resec...   \n",
       "\n",
       "                                                                          abstract  \n",
       "0  Phase three clinical trial evidence suggests that colorectal cancers with th...  \n",
       "1  Childbirth preparation classes can reduce pregnant women’s anxiety and fear ...  \n",
       "2  Neurofibroma is an uncommon benign tumor arising from nerve sheath fibroblas...  \n",
       "3  Macrodystrophia lipomatosa (ML) is a rare, non-hereditary, developmental ano...  \n",
       "4  Glomus tumors are subcutaneous tumors arising from glomus bodies, thermoregu...  "
      ]
     },
     "execution_count": 29,
     "metadata": {},
     "output_type": "execute_result"
    }
   ],
   "source": [
    "pmc_papers.head()"
   ]
  },
  {
   "cell_type": "code",
   "execution_count": 34,
   "metadata": {},
   "outputs": [
    {
     "data": {
      "text/plain": [
       "(10000, 6)"
      ]
     },
     "execution_count": 34,
     "metadata": {},
     "output_type": "execute_result"
    }
   ],
   "source": [
    "pmc_papers.shape"
   ]
  },
  {
   "cell_type": "code",
   "execution_count": 30,
   "metadata": {},
   "outputs": [],
   "source": [
    "pmc_papers['authors'] = pmc_papers['authors'].map(lambda x: ', '.join(x.split(','))+' et al' if isinstance(x, str) and len(x.split(','))>3 else x)"
   ]
  },
  {
   "cell_type": "code",
   "execution_count": 31,
   "metadata": {},
   "outputs": [],
   "source": [
    "pmc_papers_docs_dicts = []\n",
    "for i, row in pmc_papers.iterrows():\n",
    "    temp = {}\n",
    "    if isinstance(row['abstract'], str):\n",
    "        temp['text'] = row['abstract']\n",
    "        temp['meta'] = {}\n",
    "        temp['meta']['title'] = row['title']\n",
    "        temp['meta']['authors'] = row['authors'] if isinstance(row['authors'], str) else ''\n",
    "        #temp['meta']['affliations'] = row['affliations'] if isinstance(row['affliations'], str) else ''\n",
    "        temp['meta']['pmc_id'] = row['pmc_id']\n",
    "        temp['meta']['keywords'] = row['keywords'] if isinstance(row['keywords'], str) else ''\n",
    "        pmc_papers_docs_dicts.append(temp)"
   ]
  },
  {
   "cell_type": "code",
   "execution_count": 32,
   "metadata": {},
   "outputs": [
    {
     "name": "stderr",
     "output_type": "stream",
     "text": [
      "11/12/2020 09:50:52 - INFO - elasticsearch -   POST http://localhost:9200/_bulk?refresh=wait_for [status:200 request:0.708s]\n",
      "11/12/2020 09:50:53 - INFO - elasticsearch -   POST http://localhost:9200/_bulk?refresh=wait_for [status:200 request:1.044s]\n",
      "11/12/2020 09:50:54 - INFO - elasticsearch -   POST http://localhost:9200/_bulk?refresh=wait_for [status:200 request:1.012s]\n",
      "11/12/2020 09:50:55 - INFO - elasticsearch -   POST http://localhost:9200/_bulk?refresh=wait_for [status:200 request:1.043s]\n",
      "11/12/2020 09:50:56 - INFO - elasticsearch -   POST http://localhost:9200/_bulk?refresh=wait_for [status:200 request:1.009s]\n",
      "11/12/2020 09:50:57 - INFO - elasticsearch -   POST http://localhost:9200/_bulk?refresh=wait_for [status:200 request:1.020s]\n",
      "11/12/2020 09:50:58 - INFO - elasticsearch -   POST http://localhost:9200/_bulk?refresh=wait_for [status:200 request:1.008s]\n",
      "11/12/2020 09:51:00 - INFO - elasticsearch -   POST http://localhost:9200/_bulk?refresh=wait_for [status:200 request:1.020s]\n",
      "11/12/2020 09:51:01 - INFO - elasticsearch -   POST http://localhost:9200/_bulk?refresh=wait_for [status:200 request:1.024s]\n",
      "11/12/2020 09:51:02 - INFO - elasticsearch -   POST http://localhost:9200/_bulk?refresh=wait_for [status:200 request:1.015s]\n",
      "11/12/2020 09:51:03 - INFO - elasticsearch -   POST http://localhost:9200/_bulk?refresh=wait_for [status:200 request:0.992s]\n",
      "11/12/2020 09:51:04 - INFO - elasticsearch -   POST http://localhost:9200/_bulk?refresh=wait_for [status:200 request:1.001s]\n",
      "11/12/2020 09:51:05 - INFO - elasticsearch -   POST http://localhost:9200/_bulk?refresh=wait_for [status:200 request:1.006s]\n",
      "11/12/2020 09:51:06 - INFO - elasticsearch -   POST http://localhost:9200/_bulk?refresh=wait_for [status:200 request:1.012s]\n",
      "11/12/2020 09:51:07 - INFO - elasticsearch -   POST http://localhost:9200/_bulk?refresh=wait_for [status:200 request:1.011s]\n",
      "11/12/2020 09:51:08 - INFO - elasticsearch -   POST http://localhost:9200/_bulk?refresh=wait_for [status:200 request:1.009s]\n",
      "11/12/2020 09:51:09 - INFO - elasticsearch -   POST http://localhost:9200/_bulk?refresh=wait_for [status:200 request:1.027s]\n",
      "11/12/2020 09:51:10 - INFO - elasticsearch -   POST http://localhost:9200/_bulk?refresh=wait_for [status:200 request:0.986s]\n",
      "11/12/2020 09:51:11 - INFO - elasticsearch -   POST http://localhost:9200/_bulk?refresh=wait_for [status:200 request:1.011s]\n",
      "11/12/2020 09:51:12 - INFO - elasticsearch -   POST http://localhost:9200/_bulk?refresh=wait_for [status:200 request:1.003s]\n"
     ]
    }
   ],
   "source": [
    "document_store.write_documents(pmc_papers_docs_dicts)"
   ]
  },
  {
   "cell_type": "code",
   "execution_count": 35,
   "metadata": {},
   "outputs": [
    {
     "name": "stderr",
     "output_type": "stream",
     "text": [
      "11/12/2020 09:55:24 - INFO - elasticsearch -   POST http://localhost:9200/document/_count [status:200 request:0.101s]\n"
     ]
    },
    {
     "data": {
      "text/plain": [
       "14893"
      ]
     },
     "execution_count": 35,
     "metadata": {},
     "output_type": "execute_result"
    }
   ],
   "source": [
    "document_store.get_document_count()"
   ]
  },
  {
   "cell_type": "markdown",
   "metadata": {},
   "source": [
    "## QA model validation "
   ]
  },
  {
   "cell_type": "code",
   "execution_count": 20,
   "metadata": {},
   "outputs": [
    {
     "name": "stderr",
     "output_type": "stream",
     "text": [
      "11/09/2020 23:22:57 - INFO - elasticsearch -   POST http://localhost:9200/document/_search [status:200 request:0.031s]\n",
      "11/09/2020 23:22:57 - INFO - haystack.finder -   Got 10 candidates from retriever\n",
      "11/09/2020 23:22:57 - INFO - haystack.finder -   Reader is looking for detailed answer in 18868 chars ...\n",
      "Inferencing Samples: 100%|██████████| 1/1 [00:01<00:00,  1.29s/ Batches]\n",
      "Inferencing Samples: 100%|██████████| 1/1 [00:02<00:00,  2.37s/ Batches]\n",
      "Inferencing Samples: 100%|██████████| 1/1 [00:01<00:00,  1.82s/ Batches]\n",
      "Inferencing Samples: 100%|██████████| 1/1 [00:01<00:00,  1.97s/ Batches]\n",
      "Inferencing Samples: 100%|██████████| 1/1 [00:02<00:00,  2.06s/ Batches]\n",
      "Inferencing Samples: 100%|██████████| 1/1 [00:00<00:00,  1.58 Batches/s]\n",
      "Inferencing Samples: 100%|██████████| 1/1 [00:09<00:00,  9.33s/ Batches]\n",
      "Inferencing Samples: 100%|██████████| 1/1 [00:00<00:00,  1.53 Batches/s]\n",
      "Inferencing Samples: 100%|██████████| 1/1 [00:01<00:00,  1.25s/ Batches]\n",
      "Inferencing Samples: 100%|██████████| 1/1 [00:00<00:00,  1.51 Batches/s]\n"
     ]
    }
   ],
   "source": [
    "prediction = finder.get_answers(question=\"how many types of NF\", top_k_retriever=10, top_k_reader=5)"
   ]
  },
  {
   "cell_type": "code",
   "execution_count": 21,
   "metadata": {},
   "outputs": [
    {
     "name": "stdout",
     "output_type": "stream",
     "text": [
      "[   {   'answer': 'three',\n",
      "        'context': 'NF, is a genetic disorde that affects 1 in every 3,000 '\n",
      "                   'people. There are three types NF: NF1, NF2, and '\n",
      "                   'schwannomatosis. Neurofibromatosis type (NF1), '},\n",
      "    {   'answer': 'two',\n",
      "        'context': 'l-dominant disease with an incidence of 1/3,000 in live '\n",
      "                   'births. There are two types of NF, NF 1 and NF 2, and NF 1 '\n",
      "                   'is the most common type. This study'},\n",
      "    {   'answer': 'two',\n",
      "        'context': 'al-dominant disease with an incidence of 1 in 3000 live '\n",
      "                   'births. There are two types of NF, NF 1 and NF 2, and NF 1 '\n",
      "                   'is the most common. This study repo'},\n",
      "    {   'answer': 'two or more neurofibromas of any type',\n",
      "        'context': ' or 15 mm or larg post-pubertal individuals) Presence of '\n",
      "                   'two or more neurofibromas of any type, or on more '\n",
      "                   'plexiform neurofibromas Freckling under the'},\n",
      "    {   'answer': 'two or more',\n",
      "        'context': 'sted below. In order to make a diagnosis of NF1, '\n",
      "                   'individual must have two or more of the following, provid '\n",
      "                   'that no other disease accounts for the find'}]\n"
     ]
    }
   ],
   "source": [
    "print_answers(prediction, details=\"minimal\")"
   ]
  },
  {
   "cell_type": "code",
   "execution_count": 141,
   "metadata": {},
   "outputs": [
    {
     "name": "stderr",
     "output_type": "stream",
     "text": [
      "10/13/2020 17:27:42 - INFO - elasticsearch -   POST http://localhost:9200/document/_search [status:200 request:0.095s]\n",
      "10/13/2020 17:27:42 - INFO - haystack.retriever.sparse -   Got 10 candidates from retriever\n",
      "10/13/2020 17:27:42 - INFO - haystack.finder -   Reader is looking for detailed answer in 17740 chars ...\n",
      "Inferencing Samples: 100%|██████████| 1/1 [00:00<00:00,  1.82 Batches/s]\n",
      "Inferencing Samples: 100%|██████████| 1/1 [00:00<00:00,  2.07 Batches/s]\n",
      "Inferencing Samples: 100%|██████████| 1/1 [00:00<00:00,  2.16 Batches/s]\n",
      "Inferencing Samples: 100%|██████████| 1/1 [00:00<00:00,  2.20 Batches/s]\n",
      "Inferencing Samples: 100%|██████████| 1/1 [00:00<00:00,  2.74 Batches/s]\n",
      "Inferencing Samples: 100%|██████████| 1/1 [00:01<00:00,  1.57s/ Batches]\n",
      "Inferencing Samples: 100%|██████████| 1/1 [00:00<00:00,  1.95 Batches/s]\n",
      "Inferencing Samples: 100%|██████████| 1/1 [00:02<00:00,  2.53s/ Batches]\n",
      "Inferencing Samples: 100%|██████████| 1/1 [00:00<00:00,  1.27 Batches/s]\n",
      "Inferencing Samples: 100%|██████████| 1/1 [00:00<00:00,  1.20 Batches/s]\n"
     ]
    }
   ],
   "source": [
    "prediction = finder.get_answers(question=\"what are some symtoms of NF2\", top_k_retriever=10, top_k_reader=5)"
   ]
  },
  {
   "cell_type": "code",
   "execution_count": 142,
   "metadata": {},
   "outputs": [
    {
     "name": "stdout",
     "output_type": "stream",
     "text": [
      "[   {   'answer': 'neurofibromatosis type 2',\n",
      "        'context': 'r: (1) a malignant peripheral nerve sheath tumour (MPNST); '\n",
      "                   '(2) neurofibromatosis type 2 (NF2); or (3) schwannomatosis '\n",
      "                   '(SWNTS). The progressively enlar'},\n",
      "    {   'answer': 'ocular, dermatological, and neurological symptoms',\n",
      "        'context': 'as, children with NF2 most frequently present with ocular, '\n",
      "                   'dermatological, and neurological symptoms. Arteriopathy, a '\n",
      "                   'well-established feature in neur'},\n",
      "    {   'answer': 'neurofibromatosis type 2',\n",
      "        'context': 'for preoperative planning. QUESTION 6 How should patients '\n",
      "                   'with neurofibromatosis type 2 (NF2) and vestibular '\n",
      "                   'schwannoma be imaged and over what follow'},\n",
      "    {   'answer': 'malformation of midline guideposts',\n",
      "        'context': ' and prevent ectopic Slit2 expression. Loss of Nf2 causes '\n",
      "                   'malformation of midline guideposts and Slit2 upregulation, '\n",
      "                   'resulting in callosal agenesis. S'},\n",
      "    {   'answer': 'neurofibromatosis',\n",
      "        'context': 'cases (two personal and one referred) of what is nowadays '\n",
      "                   'known as neurofibromatosis. Among these latter cases, '\n",
      "                   'there was a 35-year-old cattle-driver,'}]\n"
     ]
    }
   ],
   "source": [
    "print_answers(prediction, details=\"minimal\")"
   ]
  },
  {
   "cell_type": "code",
   "execution_count": 17,
   "metadata": {},
   "outputs": [
    {
     "name": "stderr",
     "output_type": "stream",
     "text": [
      "11/07/2020 17:34:24 - INFO - elasticsearch -   POST http://localhost:9200/document/_search [status:200 request:0.030s]\n",
      "11/07/2020 17:34:24 - INFO - haystack.finder -   Got 5 candidates from retriever\n",
      "11/07/2020 17:34:24 - INFO - haystack.finder -   Reader is looking for detailed answer in 7989 chars ...\n",
      "Inferencing Samples: 100%|██████████| 1/1 [00:01<00:00,  1.16s/ Batches]\n",
      "Inferencing Samples: 100%|██████████| 1/1 [00:01<00:00,  1.15s/ Batches]\n",
      "Inferencing Samples: 100%|██████████| 1/1 [00:01<00:00,  1.68s/ Batches]\n",
      "Inferencing Samples: 100%|██████████| 1/1 [00:01<00:00,  1.15s/ Batches]\n",
      "Inferencing Samples: 100%|██████████| 1/1 [00:01<00:00,  1.71s/ Batches]\n"
     ]
    }
   ],
   "source": [
    "prediction = finder.get_answers(question=\"how many mutations related to NF1\", top_k_retriever=5, top_k_reader=3)"
   ]
  },
  {
   "cell_type": "code",
   "execution_count": 18,
   "metadata": {},
   "outputs": [
    {
     "name": "stdout",
     "output_type": "stream",
     "text": [
      "[   {   'answer': 'very similar mutations',\n",
      "        'context': 'isease causing mutations.\" We show that the splicing '\n",
      "                   'outcome of very similar mutations can be very different '\n",
      "                   'due to variations in trans-acting factor('},\n",
      "    {   'answer': 'KRAS mutants that strongly interacted with and '\n",
      "                  'competitively inhibited NF1 drove wild-type RAS activation '\n",
      "                  'in an EGFR-independent manner, whereas KRASG13D',\n",
      "        'context': ' KRAS mutants that strongly interacted with and '\n",
      "                   'competitively inhibited NF1 drove wild-type RAS activation '\n",
      "                   'in an EGFR-independent manner, whereas KRASG13D'},\n",
      "    {   'answer': 'neurofibromatosis type 1',\n",
      "        'context': 'ts with tumours due to multiple endocrine neoplasia type 2 '\n",
      "                   'and neurofibromatosis type 1 (NF1) showed similar '\n",
      "                   'catecholamine metabolite and secretory pr'}]\n"
     ]
    }
   ],
   "source": [
    "print_answers(prediction, details=\"minimal\")"
   ]
  },
  {
   "cell_type": "code",
   "execution_count": 23,
   "metadata": {},
   "outputs": [
    {
     "name": "stderr",
     "output_type": "stream",
     "text": [
      "11/09/2020 23:28:05 - INFO - elasticsearch -   POST http://localhost:9200/document/_search [status:200 request:0.091s]\n",
      "11/09/2020 23:28:05 - INFO - haystack.finder -   Got 10 candidates from retriever\n",
      "11/09/2020 23:28:05 - INFO - haystack.finder -   Reader is looking for detailed answer in 15015 chars ...\n",
      "Inferencing Samples: 100%|██████████| 1/1 [00:00<00:00,  1.39 Batches/s]\n",
      "Inferencing Samples: 100%|██████████| 1/1 [00:01<00:00,  1.86s/ Batches]\n",
      "Inferencing Samples: 100%|██████████| 1/1 [00:02<00:00,  2.21s/ Batches]\n",
      "Inferencing Samples: 100%|██████████| 1/1 [00:01<00:00,  1.87s/ Batches]\n",
      "Inferencing Samples: 100%|██████████| 1/1 [00:02<00:00,  2.20s/ Batches]\n",
      "Inferencing Samples: 100%|██████████| 1/1 [00:00<00:00,  1.45 Batches/s]\n",
      "Inferencing Samples: 100%|██████████| 1/1 [00:02<00:00,  2.42s/ Batches]\n",
      "Inferencing Samples: 100%|██████████| 1/1 [00:01<00:00,  1.41s/ Batches]\n",
      "Inferencing Samples: 100%|██████████| 1/1 [00:02<00:00,  2.42s/ Batches]\n",
      "Inferencing Samples: 100%|██████████| 1/1 [00:01<00:00,  1.53s/ Batches]\n"
     ]
    }
   ],
   "source": [
    "prediction = finder.get_answers(question=\"what are the clinical manifestations for mutation Y489C in NF1 \", top_k_retriever=10, top_k_reader=5)"
   ]
  },
  {
   "cell_type": "code",
   "execution_count": 24,
   "metadata": {},
   "outputs": [
    {
     "name": "stdout",
     "output_type": "stream",
     "text": [
      "[   {   'answer': 'neurofibromas only and a combination of neurofibromas and '\n",
      "                  'pigmentary changes',\n",
      "        'context': 'linical manifestations are reported: neurofibromas only '\n",
      "                   'and a combination of neurofibromas and pigmentary changes. '\n",
      "                   'Segmental NF1 is an example of mosa'},\n",
      "    {   'answer': 'intracranial hypotension',\n",
      "        'context': ' They describe the clinical presentation and '\n",
      "                   'manifestations of intracranial hypotension, as well as the '\n",
      "                   'pertinent investigations. They also review the'},\n",
      "    {   'answer': 'also had bilateral pheochromocytomas and mucosal neuromas',\n",
      "        'context': 'was disease free after surgical resection. She also had '\n",
      "                   'bilateral pheochromocytomas and mucosal neuromas leading '\n",
      "                   'to the clinical diagnosis of MEN-2B. '},\n",
      "    {   'answer': 'café-au-lait macules and skinfold freckling',\n",
      "        'context': 'c criteria for neurofibromatosis type I (NF1) include '\n",
      "                   'café-au-lait macules and skinfold freckling. The former '\n",
      "                   'are frequently the earliest manifestatio'},\n",
      "    {   'answer': 'cafe au lait spots, Crowe sign (axillary and inguinal '\n",
      "                  'freckling), neurofibromas or Lish nodules within the eyes',\n",
      "        'context': 'ifestations such as cafe au lait spots, Crowe sign '\n",
      "                   '(axillary and inguinal freckling), neurofibromas or Lish '\n",
      "                   'nodules within the eyes. Existence of thos'}]\n"
     ]
    }
   ],
   "source": [
    "print_answers(prediction, details=\"minimal\")"
   ]
  },
  {
   "cell_type": "code",
   "execution_count": 54,
   "metadata": {},
   "outputs": [],
   "source": [
    "def get_answers(preds):\n",
    "    all_answers = []\n",
    "    for ap in preds['answers']:\n",
    "        tmp = {}\n",
    "        tmp['answer'] = ap.get('answer', '')\n",
    "        tmp['context'] = ap.get('context', '')\n",
    "        tmp['document_id'] = ap.get('document_id', '')\n",
    "        meta_dict = ap.get('meta', None)\n",
    "        if meta_dict:\n",
    "            tmp['title'] = meta_dict.get('title', '')\n",
    "            tmp['keywords'] = meta_dict.get('keywords', '')\n",
    "        all_answers.append(tmp)\n",
    "    pprint.pprint(all_answers)"
   ]
  },
  {
   "cell_type": "code",
   "execution_count": 25,
   "metadata": {},
   "outputs": [
    {
     "name": "stdout",
     "output_type": "stream",
     "text": [
      "{   'answers': [   {   'answer': 'neurofibromas only and a combination of '\n",
      "                                 'neurofibromas and pigmentary changes',\n",
      "                       'context': 'linical manifestations are reported: '\n",
      "                                  'neurofibromas only and a combination of '\n",
      "                                  'neurofibromas and pigmentary changes. '\n",
      "                                  'Segmental NF1 is an example of mosa',\n",
      "                       'document_id': 'a5d0c5ad-c426-445f-af68-7f899bc52657',\n",
      "                       'meta': {   'doi': '10.2143/TVG.71.19.2001961',\n",
      "                                   'keywords': '',\n",
      "                                   'title': 'Segmental neurofibromatosis type '\n",
      "                                            '1: A differential diagnostic '\n",
      "                                            'challenge'},\n",
      "                       'offset_end': 113,\n",
      "                       'offset_end_in_doc': 277,\n",
      "                       'offset_start': 37,\n",
      "                       'offset_start_in_doc': 201,\n",
      "                       'probability': 0.8438321813018452,\n",
      "                       'score': 13.496179580688477},\n",
      "                   {   'answer': 'intracranial hypotension',\n",
      "                       'context': ' They describe the clinical presentation '\n",
      "                                  'and manifestations of intracranial '\n",
      "                                  'hypotension, as well as the pertinent '\n",
      "                                  'investigations. They also review the',\n",
      "                       'document_id': '8536fc00-9967-4ab5-a1e1-a49731b2a694',\n",
      "                       'meta': {   'doi': '10.3171/2014.5.SPINE13746',\n",
      "                                   'keywords': 'Complication Iatrogenic injury '\n",
      "                                               'Intracranial hypotension '\n",
      "                                               'Review',\n",
      "                                   'title': 'Iatrogenic cerebrospinal fluid '\n",
      "                                            'leak and intracranial hypotension '\n",
      "                                            'after gynecological surgery'},\n",
      "                       'offset_end': 87,\n",
      "                       'offset_end_in_doc': 435,\n",
      "                       'offset_start': 63,\n",
      "                       'offset_start_in_doc': 411,\n",
      "                       'probability': 0.7969957988001972,\n",
      "                       'score': 10.9409818649292},\n",
      "                   {   'answer': 'also had bilateral pheochromocytomas and '\n",
      "                                 'mucosal neuromas',\n",
      "                       'context': 'was disease free after surgical resection. '\n",
      "                                  'She also had bilateral pheochromocytomas '\n",
      "                                  'and mucosal neuromas leading to the '\n",
      "                                  'clinical diagnosis of MEN-2B. ',\n",
      "                       'document_id': '72801873-dd14-4b7d-8891-c46c274fd6a9',\n",
      "                       'meta': {   'doi': '10.1089/thy.2010.0328',\n",
      "                                   'keywords': '',\n",
      "                                   'title': 'Multiple endocrine neoplasia type '\n",
      "                                            '2B with a RET proto-oncogene '\n",
      "                                            'A883F mutation displays a more '\n",
      "                                            'indolent form of medullary '\n",
      "                                            'thyroid carcinoma compared with a '\n",
      "                                            'RET M918T mutation'},\n",
      "                       'offset_end': 104,\n",
      "                       'offset_end_in_doc': 943,\n",
      "                       'offset_start': 47,\n",
      "                       'offset_start_in_doc': 886,\n",
      "                       'probability': 0.7518018944805682,\n",
      "                       'score': 8.865964889526367},\n",
      "                   {   'answer': 'café-au-lait macules and skinfold freckling',\n",
      "                       'context': 'c criteria for neurofibromatosis type I '\n",
      "                                  '(NF1) include café-au-lait macules and '\n",
      "                                  'skinfold freckling. The former are '\n",
      "                                  'frequently the earliest manifestatio',\n",
      "                       'document_id': '456ab486-adbd-4a1d-800b-de92851bb85d',\n",
      "                       'meta': {   'doi': '10.1136/jmedgenet-2013-101648',\n",
      "                                   'keywords': '',\n",
      "                                   'title': 'Can the diagnosis of NF1 be '\n",
      "                                            'excluded clinically? A lack of '\n",
      "                                            'pigmentary findings in families '\n",
      "                                            'with spinal neurofibromatosis '\n",
      "                                            'demonstrates a limitation of '\n",
      "                                            'clinical diagnosis'},\n",
      "                       'offset_end': 97,\n",
      "                       'offset_end_in_doc': 137,\n",
      "                       'offset_start': 54,\n",
      "                       'offset_start_in_doc': 94,\n",
      "                       'probability': 0.7290217782582245,\n",
      "                       'score': 7.91732120513916},\n",
      "                   {   'answer': 'cafe au lait spots, Crowe sign (axillary and '\n",
      "                                 'inguinal freckling), neurofibromas or Lish '\n",
      "                                 'nodules within the eyes',\n",
      "                       'context': 'ifestations such as cafe au lait spots, '\n",
      "                                  'Crowe sign (axillary and inguinal '\n",
      "                                  'freckling), neurofibromas or Lish nodules '\n",
      "                                  'within the eyes. Existence of thos',\n",
      "                       'document_id': '47a314b3-6156-4901-8026-69654993db07',\n",
      "                       'meta': {   'doi': '10.1016/j.pepo.2014.06.006',\n",
      "                                   'keywords': 'Neoplasia Neurofibromatosis '\n",
      "                                               'type 1 von Recklinghausen '\n",
      "                                               'disease',\n",
      "                                   'title': 'Clinical manifestation of '\n",
      "                                            'neurofibromatosis type 1 in '\n",
      "                                            'children'},\n",
      "                       'offset_end': 131,\n",
      "                       'offset_end_in_doc': 570,\n",
      "                       'offset_start': 20,\n",
      "                       'offset_start_in_doc': 459,\n",
      "                       'probability': 0.7161142060872753,\n",
      "                       'score': 7.402141094207764}],\n",
      "    'no_ans_gap': 5.373542785644531,\n",
      "    'question': 'what are the clinical manifestations for mutation Y489C in '\n",
      "                'NF1 '}\n"
     ]
    }
   ],
   "source": [
    "print_answers(prediction)"
   ]
  },
  {
   "cell_type": "code",
   "execution_count": 29,
   "metadata": {},
   "outputs": [
    {
     "name": "stderr",
     "output_type": "stream",
     "text": [
      "11/09/2020 23:30:51 - INFO - elasticsearch -   POST http://localhost:9200/document/_search [status:200 request:0.039s]\n",
      "11/09/2020 23:30:51 - INFO - haystack.finder -   Got 10 candidates from retriever\n",
      "11/09/2020 23:30:51 - INFO - haystack.finder -   Reader is looking for detailed answer in 13427 chars ...\n",
      "Inferencing Samples: 100%|██████████| 1/1 [00:01<00:00,  1.35s/ Batches]\n",
      "Inferencing Samples: 100%|██████████| 1/1 [00:01<00:00,  1.18s/ Batches]\n",
      "Inferencing Samples: 100%|██████████| 1/1 [00:01<00:00,  1.84s/ Batches]\n",
      "Inferencing Samples: 100%|██████████| 1/1 [00:01<00:00,  1.27s/ Batches]\n",
      "Inferencing Samples: 100%|██████████| 1/1 [00:01<00:00,  1.36s/ Batches]\n",
      "Inferencing Samples: 100%|██████████| 1/1 [00:00<00:00,  1.52 Batches/s]\n",
      "Inferencing Samples: 100%|██████████| 1/1 [00:01<00:00,  1.45s/ Batches]\n",
      "Inferencing Samples: 100%|██████████| 1/1 [00:00<00:00,  1.28 Batches/s]\n",
      "Inferencing Samples: 100%|██████████| 1/1 [00:02<00:00,  2.11s/ Batches]\n",
      "Inferencing Samples: 100%|██████████| 1/1 [00:02<00:00,  2.14s/ Batches]\n"
     ]
    }
   ],
   "source": [
    "prediction = finder.get_answers(question=\"How many mutations discovered in NF1 \", \n",
    "                                top_k_retriever=10, \n",
    "                                top_k_reader=5\n",
    "                                )"
   ]
  },
  {
   "cell_type": "code",
   "execution_count": 30,
   "metadata": {},
   "outputs": [
    {
     "name": "stdout",
     "output_type": "stream",
     "text": [
      "[   {   'answer': 'Eleven',\n",
      "        'context': 'ncing was used for analysis of family members of the '\n",
      "                   'patients. Results: Eleven pathogenic variants were found '\n",
      "                   'among the 11 patients, which included tw'},\n",
      "    {   'answer': 'four',\n",
      "        'context': 'associated with neurofibromatosis type 1 previously, while '\n",
      "                   'the remaining four were discovered for the first time. '\n",
      "                   'Prenatal diagnosis of two high-risk '},\n",
      "    {   'answer': '10 out of 16 separate patient samples',\n",
      "        'context': 'arate sets of samples. An NF1 mutation was discovered in '\n",
      "                   '10 out of 16 separate patient samples. Our study provides '\n",
      "                   'proof of principle that the sequenc'},\n",
      "    {   'answer': 'six',\n",
      "        'context': 'avorable cytogenetics and with monosomal karyotype '\n",
      "                   'notably. We discovered six NF1 variants of unknown '\n",
      "                   'significance in 7/20 patients of which only one '},\n",
      "    {   'answer': 'Deleterious NF1 pathogenic variants were identified in each '\n",
      "                  'woman. Frameshift mutations because of '\n",
      "                  'deletion/duplication/complex rearrangement were found in '\n",
      "                  '50% (7/14) of the cases, nonsense mutations in 21% (3/14), '\n",
      "                  'in-frame splice mutations in 21% (3/14), and one case of '\n",
      "                  'missense mutation (7%, 1/14). No deleterious mutation was '\n",
      "                  'found in the following high/moderate-penetrance breast '\n",
      "                  'cancer genes: ATM, BRCA1, BRCA2, BARD1, BRIP1, CDH1, CHEK2, '\n",
      "                  'FANCC, MRE11A, NBN, PALB2, PTEN, RAD50, RAD51C, TP53, and '\n",
      "                  'STK11. Twenty-five',\n",
      "        'context': ' Deleterious NF1 pathogenic variants were identified in '\n",
      "                   'each woman. Frameshift mutations because of '\n",
      "                   'deletion/duplication/complex rearrangement were found in '\n",
      "                   '50% (7/14) of the cases, nonsense mutations in 21% (3/14), '\n",
      "                   'in-frame splice mutations in 21% (3/14), and one case of '\n",
      "                   'missense mutation (7%, 1/14). No deleterious mutation was '\n",
      "                   'found in the following high/moderate-penetrance breast '\n",
      "                   'cancer genes: ATM, BRCA1, BRCA2, BARD1, BRIP1, CDH1, '\n",
      "                   'CHEK2, FANCC, MRE11A, NBN, PALB2, PTEN, RAD50, RAD51C, '\n",
      "                   'TP53, and STK11. Twenty-five'}]\n"
     ]
    }
   ],
   "source": [
    "print_answers(prediction, details=\"minimal\")"
   ]
  },
  {
   "cell_type": "code",
   "execution_count": 25,
   "metadata": {},
   "outputs": [
    {
     "name": "stderr",
     "output_type": "stream",
     "text": [
      "11/10/2020 17:39:25 - INFO - elasticsearch -   POST http://localhost:9200/document/_search [status:200 request:0.098s]\n",
      "11/10/2020 17:39:25 - INFO - haystack.finder -   Got 10 candidates from retriever\n",
      "11/10/2020 17:39:25 - INFO - haystack.finder -   Reader is looking for detailed answer in 17920 chars ...\n",
      "Inferencing Samples: 100%|██████████| 1/1 [00:01<00:00,  1.27s/ Batches]\n",
      "Inferencing Samples: 100%|██████████| 1/1 [00:00<00:00,  1.50 Batches/s]\n",
      "Inferencing Samples: 100%|██████████| 1/1 [00:00<00:00,  1.61 Batches/s]\n",
      "Inferencing Samples: 100%|██████████| 1/1 [00:01<00:00,  1.25s/ Batches]\n",
      "Inferencing Samples: 100%|██████████| 1/1 [00:01<00:00,  1.36s/ Batches]\n",
      "Inferencing Samples: 100%|██████████| 1/1 [00:01<00:00,  1.22s/ Batches]\n",
      "Inferencing Samples: 100%|██████████| 1/1 [00:08<00:00,  8.31s/ Batches]\n",
      "Inferencing Samples: 100%|██████████| 1/1 [00:01<00:00,  1.32s/ Batches]\n",
      "Inferencing Samples: 100%|██████████| 1/1 [00:01<00:00,  2.00s/ Batches]\n",
      "Inferencing Samples: 100%|██████████| 1/1 [00:00<00:00,  1.54 Batches/s]\n"
     ]
    }
   ],
   "source": [
    "prediction = finder.get_answers(question=\"How often gliomas become malignant in NF1?\", \n",
    "                                top_k_retriever=10, \n",
    "                                top_k_reader=5\n",
    "                                )"
   ]
  },
  {
   "cell_type": "code",
   "execution_count": 26,
   "metadata": {},
   "outputs": [
    {
     "name": "stdout",
     "output_type": "stream",
     "text": [
      "[   {   'answer': '1.4%',\n",
      "        'context': 'reading to hypothalamus. Spontaneous regression was '\n",
      "                   'documented in 4/285 (1.4%) gliomas and the same number of '\n",
      "                   'NF1 children died due to gliomas. Obstru'},\n",
      "    {   'answer': 'majority of gliomas arising in adults with NF1 are '\n",
      "                  'malignant cancers, typically glioblastoma, involving the '\n",
      "                  'cerebral hemispheres',\n",
      "        'context': 'trast, the majority of gliomas arising in adults with NF1 '\n",
      "                   'are malignant cancers, typically glioblastoma, involving '\n",
      "                   'the cerebral hemispheres. Our under'},\n",
      "    {   'answer': 'About 15%',\n",
      "        'context': 'elops in cells surrounding the optic nerve (the nerve '\n",
      "                   'which controls v About 15% of children with NF1 will '\n",
      "                   'develop an optic glioma, the majority of th'},\n",
      "    {   'answer': 'never',\n",
      "        'context': 'nign tumor may become malignant (cancerous), but mo people '\n",
      "                   'with NF1 will never develop a malignant tumor. N usually '\n",
      "                   'diagnosed in childhood. Manifestat'},\n",
      "    {   'answer': '10%',\n",
      "        'context': 'ans. These types of neurofibromas can become malignant in '\n",
      "                   'a min of cases (10%). Scoliosis: Lateral curvature of the '\n",
      "                   'spine, known as scoliosis common i'}]\n"
     ]
    }
   ],
   "source": [
    "# Question: \"How often gliomas become malignant in NF1?\"\n",
    "print_answers(prediction, details=\"minimal\")"
   ]
  },
  {
   "cell_type": "code",
   "execution_count": 34,
   "metadata": {},
   "outputs": [
    {
     "name": "stderr",
     "output_type": "stream",
     "text": [
      "11/10/2020 22:08:48 - INFO - elasticsearch -   POST http://localhost:9200/document/_search [status:200 request:1.227s]\n"
     ]
    }
   ],
   "source": [
    "doc = document_store.get_documents_by_id('7aae914f-58cb-45bf-89d2-267b8c1de4f5')"
   ]
  },
  {
   "cell_type": "code",
   "execution_count": 37,
   "metadata": {},
   "outputs": [
    {
     "data": {
      "text/plain": [
       "'Purpose: To evaluate the incidence and clinical importance of brain gliomas – optic pathway gliomas (OPGs) and especially gliomas outside the optic pathway (GOOP) for children with neurofibromatosis type 1 (NF1), additionally, to assess the causes of obstructive hydrocephalus in NF1 children with an emphasis on cases caused by idiopathic aqueduct stenosis. Subjects and methods: We analysed data from 285 NF1 children followed up on our department from 1990 to 2010 by the same examination battery. Results: We have found OPGs in 77/285 (27%) children and GOOPs in 29/285 (10,2%) of NF1 children, of who 19 had OPG and GOOP together, so the total number of brain glioma was 87/285 (30,5%). GOOPs were significantly more often treated than OPGs (p > 0.01). OPGs contain clinically important subgroup of 14/285 (4.9%) spreading to hypothalamus. Spontaneous regression was documented in 4/285 (1.4%) gliomas and the same number of NF1 children died due to gliomas. Obstructive hydrocephalus was found in 22/285 (7.7%) patients and 14/22 cases were due to glioma. Idiopathic aqueduct stenosis caused hydrocephalus in 6/22 cases and was found in 2.1% of NF1 children. Two had other cause. Conclusions: The total brain glioma number (OPGs and only GOOPs together) better reflected the overall brain tumour risk for NF1 children. However, GOOPs occur less frequently than OPGs, they are more clinically relevant. The obstructive hydrocephalus was severe and featuring frequent complication, especially those with GOOP. Idiopathic aqueduct stenosis shows an unpredictable cause of hydrocephalus in comparison with glioma and is another reason for careful neurologic follow up.'"
      ]
     },
     "execution_count": 37,
     "metadata": {},
     "output_type": "execute_result"
    }
   ],
   "source": [
    "doc[0].text"
   ]
  },
  {
   "cell_type": "code",
   "execution_count": 38,
   "metadata": {},
   "outputs": [
    {
     "name": "stderr",
     "output_type": "stream",
     "text": [
      "11/11/2020 08:01:02 - INFO - elasticsearch -   POST http://localhost:9200/document/_search [status:200 request:0.728s]\n",
      "11/11/2020 08:01:02 - INFO - haystack.finder -   Got 10 candidates from retriever\n",
      "11/11/2020 08:01:02 - INFO - haystack.finder -   Reader is looking for detailed answer in 15232 chars ...\n",
      "Inferencing Samples: 100%|██████████| 1/1 [00:04<00:00,  4.54s/ Batches]\n",
      "Inferencing Samples: 100%|██████████| 1/1 [00:01<00:00,  1.91s/ Batches]\n",
      "Inferencing Samples: 100%|██████████| 1/1 [00:01<00:00,  1.47s/ Batches]\n",
      "Inferencing Samples: 100%|██████████| 1/1 [00:00<00:00,  1.47 Batches/s]\n",
      "Inferencing Samples: 100%|██████████| 1/1 [00:02<00:00,  2.11s/ Batches]\n",
      "Inferencing Samples: 100%|██████████| 1/1 [00:01<00:00,  1.95s/ Batches]\n",
      "Inferencing Samples: 100%|██████████| 1/1 [00:01<00:00,  1.31s/ Batches]\n",
      "Inferencing Samples: 100%|██████████| 1/1 [00:02<00:00,  2.12s/ Batches]\n",
      "Inferencing Samples: 100%|██████████| 1/1 [00:01<00:00,  1.68s/ Batches]\n",
      "Inferencing Samples: 100%|██████████| 1/1 [00:01<00:00,  1.42s/ Batches]\n"
     ]
    }
   ],
   "source": [
    "prediction = finder.get_answers(question=\"What is the likelihood for mutation R2429X to be pathogenic?\", \n",
    "                                top_k_retriever=10, \n",
    "                                top_k_reader=5\n",
    "                                )"
   ]
  },
  {
   "cell_type": "code",
   "execution_count": 39,
   "metadata": {},
   "outputs": [
    {
     "name": "stdout",
     "output_type": "stream",
     "text": [
      "[   {   'answer': 'lower burden',\n",
      "        'context': ' elastosis, infrequently harbored TERT promoter mutations, '\n",
      "                   'and had a lower burden of pathogenic mutations than '\n",
      "                   'spitzoid melanomas with non-Spitz MAPK '},\n",
      "    {   'answer': '80.9%',\n",
      "        'context': 'nal Institute of Health NF1 criteria, a pathogenic '\n",
      "                   'mutation was found in 80.9% of these patients. '\n",
      "                   'Seventy-four percent of the index patients with an N'},\n",
      "    {   'answer': 'increases with age',\n",
      "        'context': 'o 2%. The likelihood an individual is harboring a SPRED1 '\n",
      "                   'mutation increases with age if multiple, nonpigmentary NF1 '\n",
      "                   'findings are absent. Legius syndro'},\n",
      "    {   'answer': 'as low as 0.05 annually',\n",
      "        'context': 'S. The likelihood of this occurring in NF2 was considered '\n",
      "                   'to be as low as 0.05 annually. None of 28 families with '\n",
      "                   'familial unilateral VS had a constit'},\n",
      "    {   'answer': '59.3%',\n",
      "        'context': 'cular diagnostics in the Netherlands. A pathogenic '\n",
      "                   'mutation was found in 59.3% (1178/1985) of the index '\n",
      "                   'patients, mostly de novo (73.8%). The majority'}]\n"
     ]
    }
   ],
   "source": [
    "# Question: \"What is the likelihood for mutation R2429X to be pathogenic?\"\n",
    "print_answers(prediction, details=\"minimal\")"
   ]
  },
  {
   "cell_type": "code",
   "execution_count": 40,
   "metadata": {},
   "outputs": [
    {
     "name": "stderr",
     "output_type": "stream",
     "text": [
      "11/11/2020 08:09:44 - INFO - elasticsearch -   POST http://localhost:9200/document/_search [status:200 request:0.115s]\n",
      "11/11/2020 08:09:44 - INFO - haystack.finder -   Got 10 candidates from retriever\n",
      "11/11/2020 08:09:44 - INFO - haystack.finder -   Reader is looking for detailed answer in 14616 chars ...\n",
      "Inferencing Samples: 100%|██████████| 1/1 [00:02<00:00,  2.23s/ Batches]\n",
      "Inferencing Samples: 100%|██████████| 1/1 [00:02<00:00,  2.07s/ Batches]\n",
      "Inferencing Samples: 100%|██████████| 1/1 [00:02<00:00,  2.12s/ Batches]\n",
      "Inferencing Samples: 100%|██████████| 1/1 [00:00<00:00,  1.15 Batches/s]\n",
      "Inferencing Samples: 100%|██████████| 1/1 [00:02<00:00,  2.29s/ Batches]\n",
      "Inferencing Samples: 100%|██████████| 1/1 [00:01<00:00,  1.85s/ Batches]\n",
      "Inferencing Samples: 100%|██████████| 1/1 [00:00<00:00,  1.27 Batches/s]\n",
      "Inferencing Samples: 100%|██████████| 1/1 [00:00<00:00,  1.58 Batches/s]\n",
      "Inferencing Samples: 100%|██████████| 1/1 [00:02<00:00,  2.60s/ Batches]\n",
      "Inferencing Samples: 100%|██████████| 1/1 [00:01<00:00,  1.82s/ Batches]\n"
     ]
    }
   ],
   "source": [
    "#Do NF1 kids develop autism\n",
    "prediction = finder.get_answers(question=\"Do NF1 kids develop autism\", \n",
    "                                top_k_retriever=10, \n",
    "                                top_k_reader=5\n",
    "                                )"
   ]
  },
  {
   "cell_type": "code",
   "execution_count": 55,
   "metadata": {},
   "outputs": [
    {
     "name": "stdout",
     "output_type": "stream",
     "text": [
      "[{'answer': 'Nf1 +/– mice exhibited both increased USVs across development and '\n",
      "            'alterations in aspects of pitch, while Nf1 GFAP CKO mice '\n",
      "            'demonstrated a decrease in USVs. Developmental milestones, such '\n",
      "            'as weight, pinnae detachment, and eye opening, were not disrupted '\n",
      "            'in either model, indicating the USV deficits were not due to '\n",
      "            'gross developmental delay',\n",
      "  'context': ' Nf1 +/– mice exhibited both increased USVs across development '\n",
      "             'and alterations in aspects of pitch, while Nf1 GFAP CKO mice '\n",
      "             'demonstrated a decrease in USVs. Developmental milestones, such '\n",
      "             'as weight, pinnae detachment, and eye opening, were not '\n",
      "             'disrupted in either model, indicating the USV deficits were not '\n",
      "             'due to gross developmental delay',\n",
      "  'document_id': 'e078992d-d253-4847-b37a-4a6320735132',\n",
      "  'keywords': 'autism communication mouse neurofibromatosis type 1 ultrasonic '\n",
      "              'vocalization',\n",
      "  'title': 'Characterization of early communicative behavior in mouse models '\n",
      "           'of neurofibromatosis type 1'},\n",
      " {'answer': 'high prevalence of ASD symptoms',\n",
      "  'context': 've population-based sample of children with NF1 indicates a high '\n",
      "             'prevalence of ASD symptoms associated with NF1 as well as '\n",
      "             'substantial co-occurrence w',\n",
      "  'document_id': '53ca25c0-40c0-40b0-9d57-aa106b118e47',\n",
      "  'keywords': '',\n",
      "  'title': 'Autism and other psychiatric comorbidity in neurofibromatosis type '\n",
      "           '1: Evidence from a population-based study'},\n",
      " {'answer': 'There were no statistically significant differences in the '\n",
      "            'screen-positive rate for ASD in NF1 compared to published '\n",
      "            'controls, but mean CAST scores were higher in NF1',\n",
      "  'context': 'There were no statistically significant differences in the '\n",
      "             'screen-positive rate for ASD in NF1 compared to published '\n",
      "             'controls, but mean CAST scores were higher in NF1',\n",
      "  'document_id': '695ee642-7f42-4afd-97af-da196bd1e6ab',\n",
      "  'keywords': 'Autism spectrum disorders Childhood autism spectrum test '\n",
      "              'Modified checklist for autism in toddlers Neurofibromatosis '\n",
      "              'type 1',\n",
      "  'title': 'Screening children with neurofibromatosis type 1 for autism '\n",
      "           'spectrum disorder'},\n",
      " {'answer': \"A kid's symptoms could be very mild, severe, or somewhere in the \"\n",
      "            'middle',\n",
      "  'context': \"ost four times as many boys than girls. A kid's symptoms could \"\n",
      "             'be very mild, severe, or somewhere in the middle. For example, '\n",
      "             'some kids might be upset',\n",
      "  'document_id': '9de7e763-28a3-4160-aced-9c9ba18ab549',\n",
      "  'keywords': 'Autism symptoms Medications treatment',\n",
      "  'title': 'Autism spectrum disorder'},\n",
      " {'answer': 'Several children with autism lack antibodies to rubella',\n",
      "  'context': 'in the brain have implicated the immune system. Several children '\n",
      "             'with autism lack antibodies to rubella, as do children with CRS. '\n",
      "             'These numerous simil',\n",
      "  'document_id': '708a9435-bac0-4804-912e-b364d9e653bd',\n",
      "  'keywords': 'rubella, congenital rubella syndrome, autism, congenital '\n",
      "              'rubella infection, rubella virus, autistic spectrum',\n",
      "  'title': 'Does Rubella Cause Autism: A 2015 Reappraisal?'}]\n"
     ]
    }
   ],
   "source": [
    "get_answers(prediction)"
   ]
  },
  {
   "cell_type": "code",
   "execution_count": null,
   "metadata": {},
   "outputs": [],
   "source": []
  }
 ],
 "metadata": {
  "kernelspec": {
   "display_name": "Python 3",
   "language": "python",
   "name": "python3"
  },
  "language_info": {
   "codemirror_mode": {
    "name": "ipython",
    "version": 3
   },
   "file_extension": ".py",
   "mimetype": "text/x-python",
   "name": "python",
   "nbconvert_exporter": "python",
   "pygments_lexer": "ipython3",
   "version": "3.7.6"
  }
 },
 "nbformat": 4,
 "nbformat_minor": 4
}
