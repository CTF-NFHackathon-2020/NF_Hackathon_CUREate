{
 "cells": [
  {
   "cell_type": "code",
   "execution_count": 32,
   "metadata": {},
   "outputs": [],
   "source": [
    "import numpy as np\n",
    "import pandas as pd\n",
    "from collections import Counter\n",
    "from datetime import datetime\n",
    "import json\n",
    "import pickle\n",
    "import re\n",
    "from collections import Counter\n",
    "import random\n",
    "from itertools import groupby\n",
    "\n",
    "# nlp\n",
    "import spacy\n",
    "from spacy import displacy\n",
    "from spacy.tokenizer import Tokenizer\n",
    "from spacy.pipeline import EntityRuler\n",
    "from spacy.matcher import Matcher"
   ]
  },
  {
   "cell_type": "markdown",
   "metadata": {},
   "source": [
    "The goal of this notebook is to explore the key words used in the NF literature data and build an efficient custom NER model for the NF domain."
   ]
  },
  {
   "cell_type": "markdown",
   "metadata": {},
   "source": [
    "# Read data"
   ]
  },
  {
   "cell_type": "code",
   "execution_count": 2,
   "metadata": {},
   "outputs": [],
   "source": [
    "pmc_data = pd.read_csv(\"../data/pmc_papers.csv\")"
   ]
  },
  {
   "cell_type": "code",
   "execution_count": 3,
   "metadata": {},
   "outputs": [
    {
     "data": {
      "text/html": [
       "<div>\n",
       "<style scoped>\n",
       "    .dataframe tbody tr th:only-of-type {\n",
       "        vertical-align: middle;\n",
       "    }\n",
       "\n",
       "    .dataframe tbody tr th {\n",
       "        vertical-align: top;\n",
       "    }\n",
       "\n",
       "    .dataframe thead th {\n",
       "        text-align: right;\n",
       "    }\n",
       "</style>\n",
       "<table border=\"1\" class=\"dataframe\">\n",
       "  <thead>\n",
       "    <tr style=\"text-align: right;\">\n",
       "      <th></th>\n",
       "      <th>pmc_id</th>\n",
       "      <th>title</th>\n",
       "      <th>authors</th>\n",
       "      <th>affliations</th>\n",
       "      <th>keywords</th>\n",
       "      <th>abstract</th>\n",
       "    </tr>\n",
       "  </thead>\n",
       "  <tbody>\n",
       "    <tr>\n",
       "      <th>0</th>\n",
       "      <td>7643456</td>\n",
       "      <td>Discernment between candidate mechanisms for K...</td>\n",
       "      <td>Stites Edward C., Rossman Kent L., McFall Thom...</td>\n",
       "      <td>grid..   Integrative Biology Laboratory, Salk ...</td>\n",
       "      <td>KRAS, GTPase, EGFR, Cancer, Targeted therapy</td>\n",
       "      <td>Phase three clinical trial evidence suggests t...</td>\n",
       "    </tr>\n",
       "    <tr>\n",
       "      <th>1</th>\n",
       "      <td>7643332</td>\n",
       "      <td>Psychometric properties of satisfaction with t...</td>\n",
       "      <td>Mirghafourvand Mojgan, Mohammad-Alizadeh-Chara...</td>\n",
       "      <td>grid..f   Students’ Research Committee, Tabriz...</td>\n",
       "      <td>Satisfaction, Childbirth education, Validity, ...</td>\n",
       "      <td>Childbirth preparation classes can reduce preg...</td>\n",
       "    </tr>\n",
       "    <tr>\n",
       "      <th>2</th>\n",
       "      <td>7641497</td>\n",
       "      <td>A Rare Incidence of Metachronous Neurovascular...</td>\n",
       "      <td>Chandrasekaran Deepak, Azariah Emmanuel D, Chi...</td>\n",
       "      <td>Oral and Maxillofacial Surgery, Sri Ramachandr...</td>\n",
       "      <td>mesenchymal tumor, solitary, intraosseous, juv...</td>\n",
       "      <td>Neurofibroma is an uncommon benign tumor arisi...</td>\n",
       "    </tr>\n",
       "    <tr>\n",
       "      <th>3</th>\n",
       "      <td>7640792</td>\n",
       "      <td>A Child with Enlarged Extremities – A Case of ...</td>\n",
       "      <td>Sundareswaran N, Gopinath G, Gunasekaran K</td>\n",
       "      <td>From the Department of Neurology, Government M...</td>\n",
       "      <td>Enlarged extremities, focal gigantism, macroda...</td>\n",
       "      <td>Macrodystrophia lipomatosa (ML) is a rare, non...</td>\n",
       "    </tr>\n",
       "    <tr>\n",
       "      <th>4</th>\n",
       "      <td>7609672</td>\n",
       "      <td>Primary pancreatic glomus tumor invading into ...</td>\n",
       "      <td>Sasaki Yu, Taki Yoshiro, Tamaki Ichiro, Sasano...</td>\n",
       "      <td>grid..cDepartment of Surgery, Kansai Electric ...</td>\n",
       "      <td>Glomus tumor, Glomangiomyoma, Pancreas, Immuno...</td>\n",
       "      <td>Glomus tumors are subcutaneous tumors arising ...</td>\n",
       "    </tr>\n",
       "  </tbody>\n",
       "</table>\n",
       "</div>"
      ],
      "text/plain": [
       "    pmc_id                                              title  \\\n",
       "0  7643456  Discernment between candidate mechanisms for K...   \n",
       "1  7643332  Psychometric properties of satisfaction with t...   \n",
       "2  7641497  A Rare Incidence of Metachronous Neurovascular...   \n",
       "3  7640792  A Child with Enlarged Extremities – A Case of ...   \n",
       "4  7609672  Primary pancreatic glomus tumor invading into ...   \n",
       "\n",
       "                                             authors  \\\n",
       "0  Stites Edward C., Rossman Kent L., McFall Thom...   \n",
       "1  Mirghafourvand Mojgan, Mohammad-Alizadeh-Chara...   \n",
       "2  Chandrasekaran Deepak, Azariah Emmanuel D, Chi...   \n",
       "3         Sundareswaran N, Gopinath G, Gunasekaran K   \n",
       "4  Sasaki Yu, Taki Yoshiro, Tamaki Ichiro, Sasano...   \n",
       "\n",
       "                                         affliations  \\\n",
       "0  grid..   Integrative Biology Laboratory, Salk ...   \n",
       "1  grid..f   Students’ Research Committee, Tabriz...   \n",
       "2  Oral and Maxillofacial Surgery, Sri Ramachandr...   \n",
       "3  From the Department of Neurology, Government M...   \n",
       "4  grid..cDepartment of Surgery, Kansai Electric ...   \n",
       "\n",
       "                                            keywords  \\\n",
       "0       KRAS, GTPase, EGFR, Cancer, Targeted therapy   \n",
       "1  Satisfaction, Childbirth education, Validity, ...   \n",
       "2  mesenchymal tumor, solitary, intraosseous, juv...   \n",
       "3  Enlarged extremities, focal gigantism, macroda...   \n",
       "4  Glomus tumor, Glomangiomyoma, Pancreas, Immuno...   \n",
       "\n",
       "                                            abstract  \n",
       "0  Phase three clinical trial evidence suggests t...  \n",
       "1  Childbirth preparation classes can reduce preg...  \n",
       "2  Neurofibroma is an uncommon benign tumor arisi...  \n",
       "3  Macrodystrophia lipomatosa (ML) is a rare, non...  \n",
       "4  Glomus tumors are subcutaneous tumors arising ...  "
      ]
     },
     "execution_count": 3,
     "metadata": {},
     "output_type": "execute_result"
    }
   ],
   "source": [
    "pmc_data.head()"
   ]
  },
  {
   "cell_type": "code",
   "execution_count": 4,
   "metadata": {},
   "outputs": [
    {
     "data": {
      "text/plain": [
       "(10000, 6)"
      ]
     },
     "execution_count": 4,
     "metadata": {},
     "output_type": "execute_result"
    }
   ],
   "source": [
    "pmc_data.shape"
   ]
  },
  {
   "cell_type": "code",
   "execution_count": 13,
   "metadata": {},
   "outputs": [],
   "source": [
    "pmc_kerwords = [kw.strip().lower() for kw in ','.join(pmc_data.keywords.dropna().tolist()).split(',')]"
   ]
  },
  {
   "cell_type": "code",
   "execution_count": 14,
   "metadata": {},
   "outputs": [
    {
     "data": {
      "text/plain": [
       "42247"
      ]
     },
     "execution_count": 14,
     "metadata": {},
     "output_type": "execute_result"
    }
   ],
   "source": [
    "len(pmc_kerwords)"
   ]
  },
  {
   "cell_type": "code",
   "execution_count": 15,
   "metadata": {},
   "outputs": [],
   "source": [
    "elsevier_data = pd.read_json('../data/ctf-hackathon-upload.json', lines=True)"
   ]
  },
  {
   "cell_type": "code",
   "execution_count": 16,
   "metadata": {},
   "outputs": [
    {
     "data": {
      "text/html": [
       "<div>\n",
       "<style scoped>\n",
       "    .dataframe tbody tr th:only-of-type {\n",
       "        vertical-align: middle;\n",
       "    }\n",
       "\n",
       "    .dataframe tbody tr th {\n",
       "        vertical-align: top;\n",
       "    }\n",
       "\n",
       "    .dataframe thead th {\n",
       "        text-align: right;\n",
       "    }\n",
       "</style>\n",
       "<table border=\"1\" class=\"dataframe\">\n",
       "  <thead>\n",
       "    <tr style=\"text-align: right;\">\n",
       "      <th></th>\n",
       "      <th>Eid</th>\n",
       "      <th>abstract</th>\n",
       "      <th>affiliation_organization</th>\n",
       "      <th>title</th>\n",
       "      <th>year</th>\n",
       "      <th>sourcetitle</th>\n",
       "      <th>issn_print</th>\n",
       "      <th>doi</th>\n",
       "      <th>openaccess</th>\n",
       "      <th>meta_language</th>\n",
       "      <th>References</th>\n",
       "      <th>pmid</th>\n",
       "      <th>publishername</th>\n",
       "      <th>keywords</th>\n",
       "      <th>funding_text</th>\n",
       "    </tr>\n",
       "  </thead>\n",
       "  <tbody>\n",
       "    <tr>\n",
       "      <th>0</th>\n",
       "      <td>77249160236</td>\n",
       "      <td>Introduction. Neurofibromatosis type 1 is an a...</td>\n",
       "      <td>[[Department of Dermatology, University of Pal...</td>\n",
       "      <td>Neurofibromatosis of the nipple-areolar area: ...</td>\n",
       "      <td>2010</td>\n",
       "      <td>Journal of Medical Case Reports</td>\n",
       "      <td>[17521947]</td>\n",
       "      <td>10.1186/1752-1947-4-22</td>\n",
       "      <td>Full</td>\n",
       "      <td>English</td>\n",
       "      <td>[Fink, D., Schneider, C., Wight, E., Perucchin...</td>\n",
       "      <td>NaN</td>\n",
       "      <td>NaN</td>\n",
       "      <td>NaN</td>\n",
       "      <td>NaN</td>\n",
       "    </tr>\n",
       "    <tr>\n",
       "      <th>1</th>\n",
       "      <td>79952114987</td>\n",
       "      <td>To introduce operation skill of the spinal wed...</td>\n",
       "      <td>[[Department of Spinal Surgery, First Affiliat...</td>\n",
       "      <td>[Spinal wedge osteotomy by posterior approach ...</td>\n",
       "      <td>2010</td>\n",
       "      <td>Zhongguo xiu fu chong jian wai ke za zhi = Zho...</td>\n",
       "      <td>[10021892]</td>\n",
       "      <td>NaN</td>\n",
       "      <td>NaN</td>\n",
       "      <td>Chinese</td>\n",
       "      <td>NaN</td>\n",
       "      <td>20695392.0</td>\n",
       "      <td>NaN</td>\n",
       "      <td>NaN</td>\n",
       "      <td>NaN</td>\n",
       "    </tr>\n",
       "    <tr>\n",
       "      <th>2</th>\n",
       "      <td>79955067942</td>\n",
       "      <td>NaN</td>\n",
       "      <td>[[Department of Cardiology, AZ Sint Jan Hospit...</td>\n",
       "      <td>Multimodality imaging of cardiac involvement i...</td>\n",
       "      <td>2011</td>\n",
       "      <td>Journal of the American College of Cardiology</td>\n",
       "      <td>[07351097]</td>\n",
       "      <td>10.1016/j.jacc.2010.08.651</td>\n",
       "      <td>Full</td>\n",
       "      <td>English</td>\n",
       "      <td>NaN</td>\n",
       "      <td>21511107.0</td>\n",
       "      <td>Elsevier USA</td>\n",
       "      <td>NaN</td>\n",
       "      <td>NaN</td>\n",
       "    </tr>\n",
       "    <tr>\n",
       "      <th>3</th>\n",
       "      <td>80051905985</td>\n",
       "      <td>Malignant peripheral nerve sheath tumors accou...</td>\n",
       "      <td>[[Maxillo-Facial Surgery Division, Head and Ne...</td>\n",
       "      <td>Malignant peripheral nerve sheath tumor of the...</td>\n",
       "      <td>2011</td>\n",
       "      <td>Journal of Pediatric Surgery</td>\n",
       "      <td>[00223468]</td>\n",
       "      <td>10.1016/j.jpedsurg.2011.04.058</td>\n",
       "      <td>None</td>\n",
       "      <td>English</td>\n",
       "      <td>[Leroy, K., Dumas, V., Martin-Garcia, N., Falz...</td>\n",
       "      <td>NaN</td>\n",
       "      <td>W.B. Saunders</td>\n",
       "      <td>[MPNST vagus, Malignant peripheral nerve sheat...</td>\n",
       "      <td>NaN</td>\n",
       "    </tr>\n",
       "    <tr>\n",
       "      <th>4</th>\n",
       "      <td>80052211641</td>\n",
       "      <td>We report a 20-year-old man with cauda equina ...</td>\n",
       "      <td>[[Department of Physical Medicine and Rehabili...</td>\n",
       "      <td>Peripheral nerve involvement in a neurofibroma...</td>\n",
       "      <td>2011</td>\n",
       "      <td>Archives of Physical Medicine and Rehabilitation</td>\n",
       "      <td>[00039993]</td>\n",
       "      <td>10.1016/j.apmr.2011.04.011</td>\n",
       "      <td>None</td>\n",
       "      <td>English</td>\n",
       "      <td>[, , Neurofibromatosis: Conference Statement (...</td>\n",
       "      <td>21878222.0</td>\n",
       "      <td>NaN</td>\n",
       "      <td>[Case report, Cauda equina, Neurofibromatosis,...</td>\n",
       "      <td>NaN</td>\n",
       "    </tr>\n",
       "  </tbody>\n",
       "</table>\n",
       "</div>"
      ],
      "text/plain": [
       "           Eid                                           abstract  \\\n",
       "0  77249160236  Introduction. Neurofibromatosis type 1 is an a...   \n",
       "1  79952114987  To introduce operation skill of the spinal wed...   \n",
       "2  79955067942                                                NaN   \n",
       "3  80051905985  Malignant peripheral nerve sheath tumors accou...   \n",
       "4  80052211641  We report a 20-year-old man with cauda equina ...   \n",
       "\n",
       "                            affiliation_organization  \\\n",
       "0  [[Department of Dermatology, University of Pal...   \n",
       "1  [[Department of Spinal Surgery, First Affiliat...   \n",
       "2  [[Department of Cardiology, AZ Sint Jan Hospit...   \n",
       "3  [[Maxillo-Facial Surgery Division, Head and Ne...   \n",
       "4  [[Department of Physical Medicine and Rehabili...   \n",
       "\n",
       "                                               title  year  \\\n",
       "0  Neurofibromatosis of the nipple-areolar area: ...  2010   \n",
       "1  [Spinal wedge osteotomy by posterior approach ...  2010   \n",
       "2  Multimodality imaging of cardiac involvement i...  2011   \n",
       "3  Malignant peripheral nerve sheath tumor of the...  2011   \n",
       "4  Peripheral nerve involvement in a neurofibroma...  2011   \n",
       "\n",
       "                                         sourcetitle  issn_print  \\\n",
       "0                    Journal of Medical Case Reports  [17521947]   \n",
       "1  Zhongguo xiu fu chong jian wai ke za zhi = Zho...  [10021892]   \n",
       "2      Journal of the American College of Cardiology  [07351097]   \n",
       "3                       Journal of Pediatric Surgery  [00223468]   \n",
       "4   Archives of Physical Medicine and Rehabilitation  [00039993]   \n",
       "\n",
       "                              doi openaccess meta_language  \\\n",
       "0          10.1186/1752-1947-4-22       Full       English   \n",
       "1                             NaN        NaN       Chinese   \n",
       "2      10.1016/j.jacc.2010.08.651       Full       English   \n",
       "3  10.1016/j.jpedsurg.2011.04.058       None       English   \n",
       "4      10.1016/j.apmr.2011.04.011       None       English   \n",
       "\n",
       "                                          References        pmid  \\\n",
       "0  [Fink, D., Schneider, C., Wight, E., Perucchin...         NaN   \n",
       "1                                                NaN  20695392.0   \n",
       "2                                                NaN  21511107.0   \n",
       "3  [Leroy, K., Dumas, V., Martin-Garcia, N., Falz...         NaN   \n",
       "4  [, , Neurofibromatosis: Conference Statement (...  21878222.0   \n",
       "\n",
       "   publishername                                           keywords  \\\n",
       "0            NaN                                                NaN   \n",
       "1            NaN                                                NaN   \n",
       "2   Elsevier USA                                                NaN   \n",
       "3  W.B. Saunders  [MPNST vagus, Malignant peripheral nerve sheat...   \n",
       "4            NaN  [Case report, Cauda equina, Neurofibromatosis,...   \n",
       "\n",
       "  funding_text  \n",
       "0          NaN  \n",
       "1          NaN  \n",
       "2          NaN  \n",
       "3          NaN  \n",
       "4          NaN  "
      ]
     },
     "execution_count": 16,
     "metadata": {},
     "output_type": "execute_result"
    }
   ],
   "source": [
    "elsevier_data.head()"
   ]
  },
  {
   "cell_type": "code",
   "execution_count": 24,
   "metadata": {},
   "outputs": [],
   "source": [
    "elsevier_data['keywords'] = elsevier_data['keywords'].fillna('').map(lambda x: ','.join(x))"
   ]
  },
  {
   "cell_type": "code",
   "execution_count": 27,
   "metadata": {},
   "outputs": [],
   "source": [
    "elsevier_keywords = [kw.strip().lower() for kw in ','.join(elsevier_data.keywords.dropna().tolist()).split(',') if kw]"
   ]
  },
  {
   "cell_type": "code",
   "execution_count": 28,
   "metadata": {},
   "outputs": [
    {
     "data": {
      "text/plain": [
       "19269"
      ]
     },
     "execution_count": 28,
     "metadata": {},
     "output_type": "execute_result"
    }
   ],
   "source": [
    "len(elsevier_keywords)"
   ]
  },
  {
   "cell_type": "code",
   "execution_count": 33,
   "metadata": {},
   "outputs": [],
   "source": [
    "keywords_cnt = Counter(pmc_kerwords + elsevier_keywords)"
   ]
  },
  {
   "cell_type": "code",
   "execution_count": 35,
   "metadata": {},
   "outputs": [
    {
     "data": {
      "text/plain": [
       "[('neurofibromatosis type 1', 922),\n",
       " ('neurofibromatosis', 830),\n",
       " ('glioblastoma', 437),\n",
       " ('cancer', 420),\n",
       " ('nf1', 353),\n",
       " ('glioma', 325),\n",
       " ('schwannoma', 287),\n",
       " ('neurofibroma', 286),\n",
       " ('vestibular schwannoma', 246),\n",
       " ('neurofibromatosis type 2', 239),\n",
       " ('meningioma', 217),\n",
       " ('melanoma', 215),\n",
       " ('neurofibromatosis 1', 209),\n",
       " ('prognosis', 203),\n",
       " ('malignant peripheral nerve sheath tumor', 201),\n",
       " ('pheochromocytoma', 175),\n",
       " ('magnetic resonance imaging', 175),\n",
       " ('breast cancer', 173),\n",
       " ('children', 161),\n",
       " ('nf2', 149)]"
      ]
     },
     "execution_count": 35,
     "metadata": {},
     "output_type": "execute_result"
    }
   ],
   "source": [
    "keywords_cnt.most_common(20)"
   ]
  },
  {
   "cell_type": "markdown",
   "metadata": {},
   "source": [
    "Another good source of NER can come from the mutation information data from the Clinvar dataset."
   ]
  },
  {
   "cell_type": "code",
   "execution_count": 37,
   "metadata": {},
   "outputs": [],
   "source": [
    "clinvar_data = pd.read_csv(\"../data/nf_mutation_info.csv\")"
   ]
  },
  {
   "cell_type": "code",
   "execution_count": 38,
   "metadata": {},
   "outputs": [
    {
     "data": {
      "text/html": [
       "<div>\n",
       "<style scoped>\n",
       "    .dataframe tbody tr th:only-of-type {\n",
       "        vertical-align: middle;\n",
       "    }\n",
       "\n",
       "    .dataframe tbody tr th {\n",
       "        vertical-align: top;\n",
       "    }\n",
       "\n",
       "    .dataframe thead th {\n",
       "        text-align: right;\n",
       "    }\n",
       "</style>\n",
       "<table border=\"1\" class=\"dataframe\">\n",
       "  <thead>\n",
       "    <tr style=\"text-align: right;\">\n",
       "      <th></th>\n",
       "      <th>Name</th>\n",
       "      <th>Gene(s)</th>\n",
       "      <th>Protein change</th>\n",
       "      <th>diagnosis</th>\n",
       "      <th>Clinical significance</th>\n",
       "      <th>Last_review_date</th>\n",
       "      <th>GRCh37Chromosome</th>\n",
       "      <th>GRCh38Chromosome</th>\n",
       "      <th>VariationID</th>\n",
       "    </tr>\n",
       "  </thead>\n",
       "  <tbody>\n",
       "    <tr>\n",
       "      <th>0</th>\n",
       "      <td>NM_001042492.3(NF1):c.58C&gt;G (p.Gln20Glu)</td>\n",
       "      <td>NF1</td>\n",
       "      <td>Q20E</td>\n",
       "      <td>Neurofibromatosis, type 1</td>\n",
       "      <td>Uncertain significance</td>\n",
       "      <td>Nov 8, 2019</td>\n",
       "      <td>17.0</td>\n",
       "      <td>17.0</td>\n",
       "      <td>955226</td>\n",
       "    </tr>\n",
       "    <tr>\n",
       "      <th>1</th>\n",
       "      <td>NM_000267.3(NF1):c.58C&gt;T (p.Gln20Ter)</td>\n",
       "      <td>NF1</td>\n",
       "      <td>Q20*</td>\n",
       "      <td>Neurofibromatosis, type 1</td>\n",
       "      <td>Pathogenic</td>\n",
       "      <td>Jan 7, 2019</td>\n",
       "      <td>17.0</td>\n",
       "      <td>17.0</td>\n",
       "      <td>576465</td>\n",
       "    </tr>\n",
       "    <tr>\n",
       "      <th>2</th>\n",
       "      <td>NM_000267.3(NF1):c.59A&gt;C (p.Gln20Pro)</td>\n",
       "      <td>NF1</td>\n",
       "      <td>Q20P</td>\n",
       "      <td>Neurofibromatosis, type 1</td>\n",
       "      <td>Uncertain significance</td>\n",
       "      <td>Aug 2, 2018</td>\n",
       "      <td>17.0</td>\n",
       "      <td>17.0</td>\n",
       "      <td>650986</td>\n",
       "    </tr>\n",
       "    <tr>\n",
       "      <th>3</th>\n",
       "      <td>NM_001042492.3(NF1):c.60G&gt;C (p.Gln20His)</td>\n",
       "      <td>NF1</td>\n",
       "      <td>Q20H</td>\n",
       "      <td>Neurofibromatosis, type 1</td>\n",
       "      <td>Uncertain significance</td>\n",
       "      <td>Oct 7, 2019</td>\n",
       "      <td>17.0</td>\n",
       "      <td>17.0</td>\n",
       "      <td>965727</td>\n",
       "    </tr>\n",
       "    <tr>\n",
       "      <th>4</th>\n",
       "      <td>NM_000267.3(NF1):c.60+1G&gt;C</td>\n",
       "      <td>NF1</td>\n",
       "      <td>NaN</td>\n",
       "      <td>Neurofibromatosis, type 1</td>\n",
       "      <td>Likely pathogenic</td>\n",
       "      <td>Aug 28, 2018</td>\n",
       "      <td>17.0</td>\n",
       "      <td>17.0</td>\n",
       "      <td>663201</td>\n",
       "    </tr>\n",
       "  </tbody>\n",
       "</table>\n",
       "</div>"
      ],
      "text/plain": [
       "                                       Name Gene(s) Protein change  \\\n",
       "0  NM_001042492.3(NF1):c.58C>G (p.Gln20Glu)     NF1           Q20E   \n",
       "1     NM_000267.3(NF1):c.58C>T (p.Gln20Ter)     NF1           Q20*   \n",
       "2     NM_000267.3(NF1):c.59A>C (p.Gln20Pro)     NF1           Q20P   \n",
       "3  NM_001042492.3(NF1):c.60G>C (p.Gln20His)     NF1           Q20H   \n",
       "4                NM_000267.3(NF1):c.60+1G>C     NF1            NaN   \n",
       "\n",
       "                   diagnosis   Clinical significance Last_review_date  \\\n",
       "0  Neurofibromatosis, type 1  Uncertain significance      Nov 8, 2019   \n",
       "1  Neurofibromatosis, type 1              Pathogenic      Jan 7, 2019   \n",
       "2  Neurofibromatosis, type 1  Uncertain significance      Aug 2, 2018   \n",
       "3  Neurofibromatosis, type 1  Uncertain significance      Oct 7, 2019   \n",
       "4  Neurofibromatosis, type 1       Likely pathogenic     Aug 28, 2018   \n",
       "\n",
       "  GRCh37Chromosome GRCh38Chromosome  VariationID  \n",
       "0             17.0             17.0       955226  \n",
       "1             17.0             17.0       576465  \n",
       "2             17.0             17.0       650986  \n",
       "3             17.0             17.0       965727  \n",
       "4             17.0             17.0       663201  "
      ]
     },
     "execution_count": 38,
     "metadata": {},
     "output_type": "execute_result"
    }
   ],
   "source": [
    "clinvar_data.head()"
   ]
  },
  {
   "cell_type": "code",
   "execution_count": 47,
   "metadata": {},
   "outputs": [],
   "source": [
    "nf_mutation_gene = clinvar_data['Protein change'].dropna().unique().tolist()"
   ]
  },
  {
   "cell_type": "markdown",
   "metadata": {},
   "source": [
    "## Curate a NF specific vocabulary"
   ]
  },
  {
   "cell_type": "markdown",
   "metadata": {},
   "source": [
    "We want to curate a simple NF domain vocabulary to prepare for training a custom NER model for the NF domain."
   ]
  },
  {
   "cell_type": "code",
   "execution_count": 43,
   "metadata": {},
   "outputs": [],
   "source": [
    "nf_paper_ners = list(np.unique(pmc_kerwords + elsevier_keywords))"
   ]
  },
  {
   "cell_type": "code",
   "execution_count": 44,
   "metadata": {},
   "outputs": [
    {
     "data": {
      "text/plain": [
       "24628"
      ]
     },
     "execution_count": 44,
     "metadata": {},
     "output_type": "execute_result"
    }
   ],
   "source": [
    "len(nf_paper_ners)"
   ]
  },
  {
   "cell_type": "code",
   "execution_count": 48,
   "metadata": {},
   "outputs": [
    {
     "data": {
      "text/plain": [
       "5435"
      ]
     },
     "execution_count": 48,
     "metadata": {},
     "output_type": "execute_result"
    }
   ],
   "source": [
    "len(nf_mutation_gene)"
   ]
  },
  {
   "cell_type": "code",
   "execution_count": 53,
   "metadata": {},
   "outputs": [
    {
     "data": {
      "text/plain": [
       "['Q20E', 'Q20*', 'Q20P', 'Q20H', 'L21P', 'P22A']"
      ]
     },
     "execution_count": 53,
     "metadata": {},
     "output_type": "execute_result"
    }
   ],
   "source": [
    "nf_mutation_gene[:6]"
   ]
  },
  {
   "cell_type": "markdown",
   "metadata": {},
   "source": [
    "For future work, along with more deep dive corpus analysis, we also want to incorporate SME feedback to construct a better NER schema."
   ]
  },
  {
   "cell_type": "markdown",
   "metadata": {},
   "source": [
    "## Customized NF NER model"
   ]
  },
  {
   "cell_type": "markdown",
   "metadata": {},
   "source": [
    "As a starting point, leveraging a domain specific vocabulary to construct a rule-based NER model would be the most efficient way to tackle the challenge of the cold-start problem while achieving reliable precision and speed of inference. \n",
    "\n",
    "Here we simply use the `spacy` NER model with the augmented rule-based model from the NF vocab."
   ]
  },
  {
   "cell_type": "code",
   "execution_count": 50,
   "metadata": {},
   "outputs": [],
   "source": [
    "nlp = spacy.load(\"en_core_web_sm\")"
   ]
  },
  {
   "cell_type": "code",
   "execution_count": 51,
   "metadata": {},
   "outputs": [],
   "source": [
    "# Create EntityRuler instance\n",
    "ruler = EntityRuler(nlp)"
   ]
  },
  {
   "cell_type": "code",
   "execution_count": null,
   "metadata": {},
   "outputs": [],
   "source": [
    "# Define pattern for new entities\n",
    "for ft in nf_paper_ners:\n",
    "    ruler.add_patterns([{\"label\": \"NF_TERM\", \"pattern\": str(ft)}])\n",
    "for ft in nf_mutation_gene:\n",
    "    ruler.add_patterns([{\"label\": \"NF_GENE\", \"pattern\": str(ft)}])"
   ]
  },
  {
   "cell_type": "code",
   "execution_count": null,
   "metadata": {},
   "outputs": [],
   "source": [
    "# Update existing pipeline\n",
    "nlp.add_pipe(ruler, before=\"ner\")"
   ]
  },
  {
   "cell_type": "code",
   "execution_count": null,
   "metadata": {},
   "outputs": [],
   "source": [
    "# validate\n",
    "with nlp.disable_pipes(\"tagger\", \"parser\"):\n",
    "    doc = nlp('The R2429X nonsense variant in the NF1 gene has been reported previously in association with neurofibromatosis type 1')\n",
    "    for entity in doc.ents:\n",
    "        print(entity.text, entity.label_)"
   ]
  }
 ],
 "metadata": {
  "kernelspec": {
   "display_name": "Python 3",
   "language": "python",
   "name": "python3"
  },
  "language_info": {
   "codemirror_mode": {
    "name": "ipython",
    "version": 3
   },
   "file_extension": ".py",
   "mimetype": "text/x-python",
   "name": "python",
   "nbconvert_exporter": "python",
   "pygments_lexer": "ipython3",
   "version": "3.7.6"
  }
 },
 "nbformat": 4,
 "nbformat_minor": 4
}
